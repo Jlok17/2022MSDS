{
  "nbformat": 4,
  "nbformat_minor": 0,
  "metadata": {
    "colab": {
      "provenance": [],
      "authorship_tag": "ABX9TyMlR+WX3azIT6kErMeZhfH1",
      "include_colab_link": true
    },
    "kernelspec": {
      "name": "python3",
      "display_name": "Python 3"
    },
    "language_info": {
      "name": "python"
    }
  },
  "cells": [
    {
      "cell_type": "markdown",
      "metadata": {
        "id": "view-in-github",
        "colab_type": "text"
      },
      "source": [
        "<a href=\"https://colab.research.google.com/github/Jlok17/2022MSDS/blob/main/Story_4_Data_608.ipynb\" target=\"_parent\"><img src=\"https://colab.research.google.com/assets/colab-badge.svg\" alt=\"Open In Colab\"/></a>"
      ]
    },
    {
      "cell_type": "markdown",
      "source": [
        "## Story 4 Data 608\n",
        "\n",
        "I have introduced the term \"Data Practitioner\" as a generic job descriptor because we have so many different job role titles for individuals whose work activities overlap including Data Scientist, Data Engineer, Data Analyst, Business Analyst, Data Architect, etc. For this story we will answer the question, \"How much do we get paid?\" Your analysis and data visualizations must address the variation in average salary based on role descriptor and state.\n",
        "\n",
        "\n",
        "#### Objectives:\n",
        "\n",
        "\n",
        "\n",
        "1.   You will need to identify reliable sources for salary data and assemble the data sets that you will need.\n",
        "2.   Your visualization(s) must show the most salient information (variation in average salary by role and by state).\n",
        "3.   For this Story you must use a code library and code that you have written in R, Python or Java Script (additional coding in other languages is allowed).\n",
        "4.   Post generation enhancements to you generated visualization will be allowed (e.g. Addition of kickers and labels).\n"
      ],
      "metadata": {
        "id": "KByAkE6NrxVU"
      }
    },
    {
      "cell_type": "code",
      "source": [
        "!pip install dash\n",
        "!pip install plotly-geo"
      ],
      "metadata": {
        "colab": {
          "base_uri": "https://localhost:8080/"
        },
        "collapsed": true,
        "id": "N8WwgWPszsd0",
        "outputId": "00092f16-2d01-4f10-8412-1136a7a998a7"
      },
      "execution_count": 91,
      "outputs": [
        {
          "output_type": "stream",
          "name": "stdout",
          "text": [
            "Requirement already satisfied: dash in /usr/local/lib/python3.10/dist-packages (2.16.1)\n",
            "Requirement already satisfied: Flask<3.1,>=1.0.4 in /usr/local/lib/python3.10/dist-packages (from dash) (2.2.5)\n",
            "Requirement already satisfied: Werkzeug<3.1 in /usr/local/lib/python3.10/dist-packages (from dash) (3.0.1)\n",
            "Requirement already satisfied: plotly>=5.0.0 in /usr/local/lib/python3.10/dist-packages (from dash) (5.15.0)\n",
            "Requirement already satisfied: dash-html-components==2.0.0 in /usr/local/lib/python3.10/dist-packages (from dash) (2.0.0)\n",
            "Requirement already satisfied: dash-core-components==2.0.0 in /usr/local/lib/python3.10/dist-packages (from dash) (2.0.0)\n",
            "Requirement already satisfied: dash-table==5.0.0 in /usr/local/lib/python3.10/dist-packages (from dash) (5.0.0)\n",
            "Requirement already satisfied: importlib-metadata in /usr/local/lib/python3.10/dist-packages (from dash) (7.0.2)\n",
            "Requirement already satisfied: typing-extensions>=4.1.1 in /usr/local/lib/python3.10/dist-packages (from dash) (4.10.0)\n",
            "Requirement already satisfied: requests in /usr/local/lib/python3.10/dist-packages (from dash) (2.31.0)\n",
            "Requirement already satisfied: retrying in /usr/local/lib/python3.10/dist-packages (from dash) (1.3.4)\n",
            "Requirement already satisfied: nest-asyncio in /usr/local/lib/python3.10/dist-packages (from dash) (1.6.0)\n",
            "Requirement already satisfied: setuptools in /usr/local/lib/python3.10/dist-packages (from dash) (67.7.2)\n",
            "Requirement already satisfied: Jinja2>=3.0 in /usr/local/lib/python3.10/dist-packages (from Flask<3.1,>=1.0.4->dash) (3.1.3)\n",
            "Requirement already satisfied: itsdangerous>=2.0 in /usr/local/lib/python3.10/dist-packages (from Flask<3.1,>=1.0.4->dash) (2.1.2)\n",
            "Requirement already satisfied: click>=8.0 in /usr/local/lib/python3.10/dist-packages (from Flask<3.1,>=1.0.4->dash) (8.1.7)\n",
            "Requirement already satisfied: tenacity>=6.2.0 in /usr/local/lib/python3.10/dist-packages (from plotly>=5.0.0->dash) (8.2.3)\n",
            "Requirement already satisfied: packaging in /usr/local/lib/python3.10/dist-packages (from plotly>=5.0.0->dash) (24.0)\n",
            "Requirement already satisfied: MarkupSafe>=2.1.1 in /usr/local/lib/python3.10/dist-packages (from Werkzeug<3.1->dash) (2.1.5)\n",
            "Requirement already satisfied: zipp>=0.5 in /usr/local/lib/python3.10/dist-packages (from importlib-metadata->dash) (3.17.0)\n",
            "Requirement already satisfied: charset-normalizer<4,>=2 in /usr/local/lib/python3.10/dist-packages (from requests->dash) (3.3.2)\n",
            "Requirement already satisfied: idna<4,>=2.5 in /usr/local/lib/python3.10/dist-packages (from requests->dash) (3.6)\n",
            "Requirement already satisfied: urllib3<3,>=1.21.1 in /usr/local/lib/python3.10/dist-packages (from requests->dash) (2.0.7)\n",
            "Requirement already satisfied: certifi>=2017.4.17 in /usr/local/lib/python3.10/dist-packages (from requests->dash) (2024.2.2)\n",
            "Requirement already satisfied: six>=1.7.0 in /usr/local/lib/python3.10/dist-packages (from retrying->dash) (1.16.0)\n",
            "Collecting plotly-geo\n",
            "  Downloading plotly_geo-1.0.0-py3-none-any.whl (23.7 MB)\n",
            "\u001b[2K     \u001b[90m━━━━━━━━━━━━━━━━━━━━━━━━━━━━━━━━━━━━━━━━\u001b[0m \u001b[32m23.7/23.7 MB\u001b[0m \u001b[31m40.5 MB/s\u001b[0m eta \u001b[36m0:00:00\u001b[0m\n",
            "\u001b[?25hInstalling collected packages: plotly-geo\n",
            "Successfully installed plotly-geo-1.0.0\n"
          ]
        }
      ]
    },
    {
      "cell_type": "code",
      "execution_count": 93,
      "metadata": {
        "id": "u93jAYUfrw5g"
      },
      "outputs": [],
      "source": [
        "import pandas as pd\n",
        "import plotly.graph_objects as go\n",
        "import plotly.express as px\n",
        "import dash_core_components as dcc\n",
        "import dash_html_components as html\n",
        "from dash.dependencies import Input, Output\n",
        "import dash\n",
        "import numpy as np"
      ]
    },
    {
      "cell_type": "code",
      "source": [
        "## Websites where I gathered the data into the Google Sheet\n",
        "\n",
        "jobs = [\"Data-Scientist\",\"Data-Engineer\",\"Data-Analyst\",\"Business-Analyst\",\"Data-Architect\"]\n",
        "url_link = 'https://www.ziprecruiter.com/Salaries/What-Is-the-Average-{}-Salary-by-State'\n",
        "for i in jobs:\n",
        "  url = url_link.format(i)\n",
        "  print(url)"
      ],
      "metadata": {
        "colab": {
          "base_uri": "https://localhost:8080/"
        },
        "id": "_lchAxkhstqH",
        "outputId": "9e0b5e3f-3984-4188-faae-d7181d306af1"
      },
      "execution_count": 94,
      "outputs": [
        {
          "output_type": "stream",
          "name": "stdout",
          "text": [
            "https://www.ziprecruiter.com/Salaries/What-Is-the-Average-Data-Scientist-Salary-by-State\n",
            "https://www.ziprecruiter.com/Salaries/What-Is-the-Average-Data-Engineer-Salary-by-State\n",
            "https://www.ziprecruiter.com/Salaries/What-Is-the-Average-Data-Analyst-Salary-by-State\n",
            "https://www.ziprecruiter.com/Salaries/What-Is-the-Average-Business-Analyst-Salary-by-State\n",
            "https://www.ziprecruiter.com/Salaries/What-Is-the-Average-Data-Architect-Salary-by-State\n"
          ]
        }
      ]
    },
    {
      "cell_type": "code",
      "source": [
        "df = pd.read_csv(\"https://raw.githubusercontent.com/Jlok17/2022MSDS/main/Source/Job_State%20Salary%20-%20Sheet1.csv\", sep = \",\")"
      ],
      "metadata": {
        "id": "GEsS3CLP1e6g"
      },
      "execution_count": 95,
      "outputs": []
    },
    {
      "cell_type": "code",
      "source": [
        "df.info()"
      ],
      "metadata": {
        "colab": {
          "base_uri": "https://localhost:8080/"
        },
        "id": "VK26fNrX1ejn",
        "outputId": "22963c7c-f866-4454-ffef-f3faf8ae03b3"
      },
      "execution_count": 96,
      "outputs": [
        {
          "output_type": "stream",
          "name": "stdout",
          "text": [
            "<class 'pandas.core.frame.DataFrame'>\n",
            "RangeIndex: 250 entries, 0 to 249\n",
            "Data columns (total 6 columns):\n",
            " #   Column         Non-Null Count  Dtype  \n",
            "---  ------         --------------  -----  \n",
            " 0   State          250 non-null    object \n",
            " 1   Annual Salary  250 non-null    object \n",
            " 2   Monthly Pay    250 non-null    object \n",
            " 3   Weekly Pay     250 non-null    object \n",
            " 4   Hourly Wage    250 non-null    float64\n",
            " 5   Job            250 non-null    object \n",
            "dtypes: float64(1), object(5)\n",
            "memory usage: 11.8+ KB\n"
          ]
        }
      ]
    },
    {
      "cell_type": "code",
      "source": [
        "# Changing Data Type from Object to Float\n",
        "df['Annual Salary'] = pd.to_numeric(df['Annual Salary'].str.replace(',', ''), errors='coerce')\n",
        "df['Monthly Pay'] = pd.to_numeric(df['Monthly Pay'].str.replace(',', ''), errors='coerce')\n",
        "df['Weekly Pay'] = pd.to_numeric(df['Weekly Pay'].str.replace(',', ''), errors='coerce')"
      ],
      "metadata": {
        "id": "Ws5lwmQO7KQn"
      },
      "execution_count": 97,
      "outputs": []
    },
    {
      "cell_type": "code",
      "source": [
        "df.head()"
      ],
      "metadata": {
        "colab": {
          "base_uri": "https://localhost:8080/",
          "height": 206
        },
        "id": "hJjAvPekDJ1A",
        "outputId": "1eafdfe1-68fd-4f58-8043-7a6448690f03"
      },
      "execution_count": 98,
      "outputs": [
        {
          "output_type": "execute_result",
          "data": {
            "text/plain": [
              "        State  Annual Salary  Monthly Pay  Weekly Pay  Hourly Wage  \\\n",
              "0    New York       136172.0      11347.0      2618.0        65.47   \n",
              "1     Vermont       133828.0      11152.0      2573.0        64.34   \n",
              "2  California       131441.0      10953.0      2527.0        63.19   \n",
              "3       Maine       127644.0      10637.0      2454.0        61.37   \n",
              "4       Idaho       126275.0      10522.0      2428.0        60.71   \n",
              "\n",
              "              Job  \n",
              "0  Data Scientist  \n",
              "1  Data Scientist  \n",
              "2  Data Scientist  \n",
              "3  Data Scientist  \n",
              "4  Data Scientist  "
            ],
            "text/html": [
              "\n",
              "  <div id=\"df-eeb2adc3-7af1-4c1e-84e6-27c5a444e788\" class=\"colab-df-container\">\n",
              "    <div>\n",
              "<style scoped>\n",
              "    .dataframe tbody tr th:only-of-type {\n",
              "        vertical-align: middle;\n",
              "    }\n",
              "\n",
              "    .dataframe tbody tr th {\n",
              "        vertical-align: top;\n",
              "    }\n",
              "\n",
              "    .dataframe thead th {\n",
              "        text-align: right;\n",
              "    }\n",
              "</style>\n",
              "<table border=\"1\" class=\"dataframe\">\n",
              "  <thead>\n",
              "    <tr style=\"text-align: right;\">\n",
              "      <th></th>\n",
              "      <th>State</th>\n",
              "      <th>Annual Salary</th>\n",
              "      <th>Monthly Pay</th>\n",
              "      <th>Weekly Pay</th>\n",
              "      <th>Hourly Wage</th>\n",
              "      <th>Job</th>\n",
              "    </tr>\n",
              "  </thead>\n",
              "  <tbody>\n",
              "    <tr>\n",
              "      <th>0</th>\n",
              "      <td>New York</td>\n",
              "      <td>136172.0</td>\n",
              "      <td>11347.0</td>\n",
              "      <td>2618.0</td>\n",
              "      <td>65.47</td>\n",
              "      <td>Data Scientist</td>\n",
              "    </tr>\n",
              "    <tr>\n",
              "      <th>1</th>\n",
              "      <td>Vermont</td>\n",
              "      <td>133828.0</td>\n",
              "      <td>11152.0</td>\n",
              "      <td>2573.0</td>\n",
              "      <td>64.34</td>\n",
              "      <td>Data Scientist</td>\n",
              "    </tr>\n",
              "    <tr>\n",
              "      <th>2</th>\n",
              "      <td>California</td>\n",
              "      <td>131441.0</td>\n",
              "      <td>10953.0</td>\n",
              "      <td>2527.0</td>\n",
              "      <td>63.19</td>\n",
              "      <td>Data Scientist</td>\n",
              "    </tr>\n",
              "    <tr>\n",
              "      <th>3</th>\n",
              "      <td>Maine</td>\n",
              "      <td>127644.0</td>\n",
              "      <td>10637.0</td>\n",
              "      <td>2454.0</td>\n",
              "      <td>61.37</td>\n",
              "      <td>Data Scientist</td>\n",
              "    </tr>\n",
              "    <tr>\n",
              "      <th>4</th>\n",
              "      <td>Idaho</td>\n",
              "      <td>126275.0</td>\n",
              "      <td>10522.0</td>\n",
              "      <td>2428.0</td>\n",
              "      <td>60.71</td>\n",
              "      <td>Data Scientist</td>\n",
              "    </tr>\n",
              "  </tbody>\n",
              "</table>\n",
              "</div>\n",
              "    <div class=\"colab-df-buttons\">\n",
              "\n",
              "  <div class=\"colab-df-container\">\n",
              "    <button class=\"colab-df-convert\" onclick=\"convertToInteractive('df-eeb2adc3-7af1-4c1e-84e6-27c5a444e788')\"\n",
              "            title=\"Convert this dataframe to an interactive table.\"\n",
              "            style=\"display:none;\">\n",
              "\n",
              "  <svg xmlns=\"http://www.w3.org/2000/svg\" height=\"24px\" viewBox=\"0 -960 960 960\">\n",
              "    <path d=\"M120-120v-720h720v720H120Zm60-500h600v-160H180v160Zm220 220h160v-160H400v160Zm0 220h160v-160H400v160ZM180-400h160v-160H180v160Zm440 0h160v-160H620v160ZM180-180h160v-160H180v160Zm440 0h160v-160H620v160Z\"/>\n",
              "  </svg>\n",
              "    </button>\n",
              "\n",
              "  <style>\n",
              "    .colab-df-container {\n",
              "      display:flex;\n",
              "      gap: 12px;\n",
              "    }\n",
              "\n",
              "    .colab-df-convert {\n",
              "      background-color: #E8F0FE;\n",
              "      border: none;\n",
              "      border-radius: 50%;\n",
              "      cursor: pointer;\n",
              "      display: none;\n",
              "      fill: #1967D2;\n",
              "      height: 32px;\n",
              "      padding: 0 0 0 0;\n",
              "      width: 32px;\n",
              "    }\n",
              "\n",
              "    .colab-df-convert:hover {\n",
              "      background-color: #E2EBFA;\n",
              "      box-shadow: 0px 1px 2px rgba(60, 64, 67, 0.3), 0px 1px 3px 1px rgba(60, 64, 67, 0.15);\n",
              "      fill: #174EA6;\n",
              "    }\n",
              "\n",
              "    .colab-df-buttons div {\n",
              "      margin-bottom: 4px;\n",
              "    }\n",
              "\n",
              "    [theme=dark] .colab-df-convert {\n",
              "      background-color: #3B4455;\n",
              "      fill: #D2E3FC;\n",
              "    }\n",
              "\n",
              "    [theme=dark] .colab-df-convert:hover {\n",
              "      background-color: #434B5C;\n",
              "      box-shadow: 0px 1px 3px 1px rgba(0, 0, 0, 0.15);\n",
              "      filter: drop-shadow(0px 1px 2px rgba(0, 0, 0, 0.3));\n",
              "      fill: #FFFFFF;\n",
              "    }\n",
              "  </style>\n",
              "\n",
              "    <script>\n",
              "      const buttonEl =\n",
              "        document.querySelector('#df-eeb2adc3-7af1-4c1e-84e6-27c5a444e788 button.colab-df-convert');\n",
              "      buttonEl.style.display =\n",
              "        google.colab.kernel.accessAllowed ? 'block' : 'none';\n",
              "\n",
              "      async function convertToInteractive(key) {\n",
              "        const element = document.querySelector('#df-eeb2adc3-7af1-4c1e-84e6-27c5a444e788');\n",
              "        const dataTable =\n",
              "          await google.colab.kernel.invokeFunction('convertToInteractive',\n",
              "                                                    [key], {});\n",
              "        if (!dataTable) return;\n",
              "\n",
              "        const docLinkHtml = 'Like what you see? Visit the ' +\n",
              "          '<a target=\"_blank\" href=https://colab.research.google.com/notebooks/data_table.ipynb>data table notebook</a>'\n",
              "          + ' to learn more about interactive tables.';\n",
              "        element.innerHTML = '';\n",
              "        dataTable['output_type'] = 'display_data';\n",
              "        await google.colab.output.renderOutput(dataTable, element);\n",
              "        const docLink = document.createElement('div');\n",
              "        docLink.innerHTML = docLinkHtml;\n",
              "        element.appendChild(docLink);\n",
              "      }\n",
              "    </script>\n",
              "  </div>\n",
              "\n",
              "\n",
              "<div id=\"df-18008453-9aac-4a9a-bec3-9ca0d923e206\">\n",
              "  <button class=\"colab-df-quickchart\" onclick=\"quickchart('df-18008453-9aac-4a9a-bec3-9ca0d923e206')\"\n",
              "            title=\"Suggest charts\"\n",
              "            style=\"display:none;\">\n",
              "\n",
              "<svg xmlns=\"http://www.w3.org/2000/svg\" height=\"24px\"viewBox=\"0 0 24 24\"\n",
              "     width=\"24px\">\n",
              "    <g>\n",
              "        <path d=\"M19 3H5c-1.1 0-2 .9-2 2v14c0 1.1.9 2 2 2h14c1.1 0 2-.9 2-2V5c0-1.1-.9-2-2-2zM9 17H7v-7h2v7zm4 0h-2V7h2v10zm4 0h-2v-4h2v4z\"/>\n",
              "    </g>\n",
              "</svg>\n",
              "  </button>\n",
              "\n",
              "<style>\n",
              "  .colab-df-quickchart {\n",
              "      --bg-color: #E8F0FE;\n",
              "      --fill-color: #1967D2;\n",
              "      --hover-bg-color: #E2EBFA;\n",
              "      --hover-fill-color: #174EA6;\n",
              "      --disabled-fill-color: #AAA;\n",
              "      --disabled-bg-color: #DDD;\n",
              "  }\n",
              "\n",
              "  [theme=dark] .colab-df-quickchart {\n",
              "      --bg-color: #3B4455;\n",
              "      --fill-color: #D2E3FC;\n",
              "      --hover-bg-color: #434B5C;\n",
              "      --hover-fill-color: #FFFFFF;\n",
              "      --disabled-bg-color: #3B4455;\n",
              "      --disabled-fill-color: #666;\n",
              "  }\n",
              "\n",
              "  .colab-df-quickchart {\n",
              "    background-color: var(--bg-color);\n",
              "    border: none;\n",
              "    border-radius: 50%;\n",
              "    cursor: pointer;\n",
              "    display: none;\n",
              "    fill: var(--fill-color);\n",
              "    height: 32px;\n",
              "    padding: 0;\n",
              "    width: 32px;\n",
              "  }\n",
              "\n",
              "  .colab-df-quickchart:hover {\n",
              "    background-color: var(--hover-bg-color);\n",
              "    box-shadow: 0 1px 2px rgba(60, 64, 67, 0.3), 0 1px 3px 1px rgba(60, 64, 67, 0.15);\n",
              "    fill: var(--button-hover-fill-color);\n",
              "  }\n",
              "\n",
              "  .colab-df-quickchart-complete:disabled,\n",
              "  .colab-df-quickchart-complete:disabled:hover {\n",
              "    background-color: var(--disabled-bg-color);\n",
              "    fill: var(--disabled-fill-color);\n",
              "    box-shadow: none;\n",
              "  }\n",
              "\n",
              "  .colab-df-spinner {\n",
              "    border: 2px solid var(--fill-color);\n",
              "    border-color: transparent;\n",
              "    border-bottom-color: var(--fill-color);\n",
              "    animation:\n",
              "      spin 1s steps(1) infinite;\n",
              "  }\n",
              "\n",
              "  @keyframes spin {\n",
              "    0% {\n",
              "      border-color: transparent;\n",
              "      border-bottom-color: var(--fill-color);\n",
              "      border-left-color: var(--fill-color);\n",
              "    }\n",
              "    20% {\n",
              "      border-color: transparent;\n",
              "      border-left-color: var(--fill-color);\n",
              "      border-top-color: var(--fill-color);\n",
              "    }\n",
              "    30% {\n",
              "      border-color: transparent;\n",
              "      border-left-color: var(--fill-color);\n",
              "      border-top-color: var(--fill-color);\n",
              "      border-right-color: var(--fill-color);\n",
              "    }\n",
              "    40% {\n",
              "      border-color: transparent;\n",
              "      border-right-color: var(--fill-color);\n",
              "      border-top-color: var(--fill-color);\n",
              "    }\n",
              "    60% {\n",
              "      border-color: transparent;\n",
              "      border-right-color: var(--fill-color);\n",
              "    }\n",
              "    80% {\n",
              "      border-color: transparent;\n",
              "      border-right-color: var(--fill-color);\n",
              "      border-bottom-color: var(--fill-color);\n",
              "    }\n",
              "    90% {\n",
              "      border-color: transparent;\n",
              "      border-bottom-color: var(--fill-color);\n",
              "    }\n",
              "  }\n",
              "</style>\n",
              "\n",
              "  <script>\n",
              "    async function quickchart(key) {\n",
              "      const quickchartButtonEl =\n",
              "        document.querySelector('#' + key + ' button');\n",
              "      quickchartButtonEl.disabled = true;  // To prevent multiple clicks.\n",
              "      quickchartButtonEl.classList.add('colab-df-spinner');\n",
              "      try {\n",
              "        const charts = await google.colab.kernel.invokeFunction(\n",
              "            'suggestCharts', [key], {});\n",
              "      } catch (error) {\n",
              "        console.error('Error during call to suggestCharts:', error);\n",
              "      }\n",
              "      quickchartButtonEl.classList.remove('colab-df-spinner');\n",
              "      quickchartButtonEl.classList.add('colab-df-quickchart-complete');\n",
              "    }\n",
              "    (() => {\n",
              "      let quickchartButtonEl =\n",
              "        document.querySelector('#df-18008453-9aac-4a9a-bec3-9ca0d923e206 button');\n",
              "      quickchartButtonEl.style.display =\n",
              "        google.colab.kernel.accessAllowed ? 'block' : 'none';\n",
              "    })();\n",
              "  </script>\n",
              "</div>\n",
              "\n",
              "    </div>\n",
              "  </div>\n"
            ],
            "application/vnd.google.colaboratory.intrinsic+json": {
              "type": "dataframe",
              "variable_name": "df",
              "summary": "{\n  \"name\": \"df\",\n  \"rows\": 250,\n  \"fields\": [\n    {\n      \"column\": \"State\",\n      \"properties\": {\n        \"dtype\": \"category\",\n        \"num_unique_values\": 50,\n        \"samples\": [\n          \"Wisconsin\",\n          \"Georgia\",\n          \"Iowa\"\n        ],\n        \"semantic_type\": \"\",\n        \"description\": \"\"\n      }\n    },\n    {\n      \"column\": \"Annual Salary\",\n      \"properties\": {\n        \"dtype\": \"number\",\n        \"std\": 24417.065993134973,\n        \"min\": 63890.0,\n        \"max\": 164857.0,\n        \"num_unique_values\": 250,\n        \"samples\": [\n          108879.0,\n          124713.0,\n          67165.0\n        ],\n        \"semantic_type\": \"\",\n        \"description\": \"\"\n      }\n    },\n    {\n      \"column\": \"Monthly Pay\",\n      \"properties\": {\n        \"dtype\": \"number\",\n        \"std\": 2034.8869543569363,\n        \"min\": 5324.0,\n        \"max\": 13738.0,\n        \"num_unique_values\": 249,\n        \"samples\": [\n          9281.0,\n          10392.0,\n          5597.0\n        ],\n        \"semantic_type\": \"\",\n        \"description\": \"\"\n      }\n    },\n    {\n      \"column\": \"Weekly Pay\",\n      \"properties\": {\n        \"dtype\": \"number\",\n        \"std\": 469.67719453713426,\n        \"min\": 1228.0,\n        \"max\": 3170.0,\n        \"num_unique_values\": 235,\n        \"samples\": [\n          1521.0,\n          2722.0,\n          1510.0\n        ],\n        \"semantic_type\": \"\",\n        \"description\": \"\"\n      }\n    },\n    {\n      \"column\": \"Hourly Wage\",\n      \"properties\": {\n        \"dtype\": \"number\",\n        \"std\": 11.739055456827602,\n        \"min\": 30.72,\n        \"max\": 79.26,\n        \"num_unique_values\": 245,\n        \"samples\": [\n          53.97,\n          59.96,\n          49.15\n        ],\n        \"semantic_type\": \"\",\n        \"description\": \"\"\n      }\n    },\n    {\n      \"column\": \"Job\",\n      \"properties\": {\n        \"dtype\": \"category\",\n        \"num_unique_values\": 5,\n        \"samples\": [\n          \"Data Analyst\",\n          \"Data Architect\",\n          \"Data Engineer\"\n        ],\n        \"semantic_type\": \"\",\n        \"description\": \"\"\n      }\n    }\n  ]\n}"
            }
          },
          "metadata": {},
          "execution_count": 98
        }
      ]
    },
    {
      "cell_type": "code",
      "source": [
        "# Box plot by Job\n",
        "fig_job = px.box(df, x='Job', y='Annual Salary', title='Annual Salary Distribution by Job')\n",
        "\n",
        "# Box Plot by State\n",
        "fig_state = px.box(df, x='State', y='Annual Salary', title='Annual Salary Distribution by State')\n",
        "\n",
        "\n",
        "fig_job.show()\n",
        "fig_state.show()"
      ],
      "metadata": {
        "colab": {
          "base_uri": "https://localhost:8080/",
          "height": 1000
        },
        "id": "UFP6ZJABCj-z",
        "outputId": "c2fef409-1c3a-4037-a722-4b0b1d83a252"
      },
      "execution_count": 99,
      "outputs": [
        {
          "output_type": "display_data",
          "data": {
            "text/html": [
              "<html>\n",
              "<head><meta charset=\"utf-8\" /></head>\n",
              "<body>\n",
              "    <div>            <script src=\"https://cdnjs.cloudflare.com/ajax/libs/mathjax/2.7.5/MathJax.js?config=TeX-AMS-MML_SVG\"></script><script type=\"text/javascript\">if (window.MathJax && window.MathJax.Hub && window.MathJax.Hub.Config) {window.MathJax.Hub.Config({SVG: {font: \"STIX-Web\"}});}</script>                <script type=\"text/javascript\">window.PlotlyConfig = {MathJaxConfig: 'local'};</script>\n",
              "        <script charset=\"utf-8\" src=\"https://cdn.plot.ly/plotly-2.24.1.min.js\"></script>                <div id=\"2f376315-9d65-4ce2-a93d-dad9e96f9cd5\" class=\"plotly-graph-div\" style=\"height:525px; width:100%;\"></div>            <script type=\"text/javascript\">                                    window.PLOTLYENV=window.PLOTLYENV || {};                                    if (document.getElementById(\"2f376315-9d65-4ce2-a93d-dad9e96f9cd5\")) {                    Plotly.newPlot(                        \"2f376315-9d65-4ce2-a93d-dad9e96f9cd5\",                        [{\"alignmentgroup\":\"True\",\"hovertemplate\":\"Job=%{x}\\u003cbr\\u003eAnnual Salary=%{y}\\u003cextra\\u003e\\u003c\\u002fextra\\u003e\",\"legendgroup\":\"\",\"marker\":{\"color\":\"#636efa\"},\"name\":\"\",\"notched\":false,\"offsetgroup\":\"\",\"orientation\":\"v\",\"showlegend\":false,\"x\":[\"Data Scientist\",\"Data Scientist\",\"Data Scientist\",\"Data Scientist\",\"Data Scientist\",\"Data Scientist\",\"Data Scientist\",\"Data Scientist\",\"Data Scientist\",\"Data Scientist\",\"Data Scientist\",\"Data Scientist\",\"Data Scientist\",\"Data Scientist\",\"Data Scientist\",\"Data Scientist\",\"Data Scientist\",\"Data Scientist\",\"Data Scientist\",\"Data Scientist\",\"Data Scientist\",\"Data Scientist\",\"Data Scientist\",\"Data Scientist\",\"Data Scientist\",\"Data Scientist\",\"Data Scientist\",\"Data Scientist\",\"Data Scientist\",\"Data Scientist\",\"Data Scientist\",\"Data Scientist\",\"Data Scientist\",\"Data Scientist\",\"Data Scientist\",\"Data Scientist\",\"Data Scientist\",\"Data Scientist\",\"Data Scientist\",\"Data Scientist\",\"Data Scientist\",\"Data Scientist\",\"Data Scientist\",\"Data Scientist\",\"Data Scientist\",\"Data Scientist\",\"Data Scientist\",\"Data Scientist\",\"Data Scientist\",\"Data Scientist\",\"Data Analyst\",\"Data Analyst\",\"Data Analyst\",\"Data Analyst\",\"Data Analyst\",\"Data Analyst\",\"Data Analyst\",\"Data Analyst\",\"Data Analyst\",\"Data Analyst\",\"Data Analyst\",\"Data Analyst\",\"Data Analyst\",\"Data Analyst\",\"Data Analyst\",\"Data Analyst\",\"Data Analyst\",\"Data Analyst\",\"Data Analyst\",\"Data Analyst\",\"Data Analyst\",\"Data Analyst\",\"Data Analyst\",\"Data Analyst\",\"Data Analyst\",\"Data Analyst\",\"Data Analyst\",\"Data Analyst\",\"Data Analyst\",\"Data Analyst\",\"Data Analyst\",\"Data Analyst\",\"Data Analyst\",\"Data Analyst\",\"Data Analyst\",\"Data Analyst\",\"Data Analyst\",\"Data Analyst\",\"Data Analyst\",\"Data Analyst\",\"Data Analyst\",\"Data Analyst\",\"Data Analyst\",\"Data Analyst\",\"Data Analyst\",\"Data Analyst\",\"Data Analyst\",\"Data Analyst\",\"Data Analyst\",\"Data Analyst\",\"Data Engineer\",\"Data Engineer\",\"Data Engineer\",\"Data Engineer\",\"Data Engineer\",\"Data Engineer\",\"Data Engineer\",\"Data Engineer\",\"Data Engineer\",\"Data Engineer\",\"Data Engineer\",\"Data Engineer\",\"Data Engineer\",\"Data Engineer\",\"Data Engineer\",\"Data Engineer\",\"Data Engineer\",\"Data Engineer\",\"Data Engineer\",\"Data Engineer\",\"Data Engineer\",\"Data Engineer\",\"Data Engineer\",\"Data Engineer\",\"Data Engineer\",\"Data Engineer\",\"Data Engineer\",\"Data Engineer\",\"Data Engineer\",\"Data Engineer\",\"Data Engineer\",\"Data Engineer\",\"Data Engineer\",\"Data Engineer\",\"Data Engineer\",\"Data Engineer\",\"Data Engineer\",\"Data Engineer\",\"Data Engineer\",\"Data Engineer\",\"Data Engineer\",\"Data Engineer\",\"Data Engineer\",\"Data Engineer\",\"Data Engineer\",\"Data Engineer\",\"Data Engineer\",\"Data Engineer\",\"Data Engineer\",\"Data Engineer\",\"Business Analyst\",\"Business Analyst\",\"Business Analyst\",\"Business Analyst\",\"Business Analyst\",\"Business Analyst\",\"Business Analyst\",\"Business Analyst\",\"Business Analyst\",\"Business Analyst\",\"Business Analyst\",\"Business Analyst\",\"Business Analyst\",\"Business Analyst\",\"Business Analyst\",\"Business Analyst\",\"Business Analyst\",\"Business Analyst\",\"Business Analyst\",\"Business Analyst\",\"Business Analyst\",\"Business Analyst\",\"Business Analyst\",\"Business Analyst\",\"Business Analyst\",\"Business Analyst\",\"Business Analyst\",\"Business Analyst\",\"Business Analyst\",\"Business Analyst\",\"Business Analyst\",\"Business Analyst\",\"Business Analyst\",\"Business Analyst\",\"Business Analyst\",\"Business Analyst\",\"Business Analyst\",\"Business Analyst\",\"Business Analyst\",\"Business Analyst\",\"Business Analyst\",\"Business Analyst\",\"Business Analyst\",\"Business Analyst\",\"Business Analyst\",\"Business Analyst\",\"Business Analyst\",\"Business Analyst\",\"Business Analyst\",\"Business Analyst\",\"Data Architect\",\"Data Architect\",\"Data Architect\",\"Data Architect\",\"Data Architect\",\"Data Architect\",\"Data Architect\",\"Data Architect\",\"Data Architect\",\"Data Architect\",\"Data Architect\",\"Data Architect\",\"Data Architect\",\"Data Architect\",\"Data Architect\",\"Data Architect\",\"Data Architect\",\"Data Architect\",\"Data Architect\",\"Data Architect\",\"Data Architect\",\"Data Architect\",\"Data Architect\",\"Data Architect\",\"Data Architect\",\"Data Architect\",\"Data Architect\",\"Data Architect\",\"Data Architect\",\"Data Architect\",\"Data Architect\",\"Data Architect\",\"Data Architect\",\"Data Architect\",\"Data Architect\",\"Data Architect\",\"Data Architect\",\"Data Architect\",\"Data Architect\",\"Data Architect\",\"Data Architect\",\"Data Architect\",\"Data Architect\",\"Data Architect\",\"Data Architect\",\"Data Architect\",\"Data Architect\",\"Data Architect\",\"Data Architect\",\"Data Architect\"],\"x0\":\" \",\"xaxis\":\"x\",\"y\":[136172.0,133828.0,131441.0,127644.0,126275.0,125289.0,124713.0,123188.0,122407.0,121955.0,121666.0,121011.0,120890.0,120117.0,119040.0,118595.0,117956.0,116954.0,115741.0,115421.0,115258.0,114536.0,114254.0,112811.0,112255.0,112085.0,111877.0,111402.0,110662.0,109897.0,109690.0,108858.0,108712.0,108449.0,107174.0,106899.0,106424.0,105000.0,103937.0,103779.0,103063.0,102927.0,102344.0,101792.0,100631.0,97776.0,97737.0,96317.0,92891.0,91843.0,98166.0,89890.0,87898.0,86566.0,85631.0,85515.0,84902.0,84899.0,84677.0,83991.0,83857.0,83837.0,82209.0,82123.0,81613.0,81074.0,81053.0,80886.0,80065.0,79876.0,79235.0,79108.0,79063.0,77796.0,76863.0,76760.0,76617.0,75872.0,75561.0,75487.0,75098.0,74872.0,74409.0,74394.0,74169.0,72966.0,72629.0,72093.0,71384.0,71124.0,70811.0,70765.0,70662.0,70205.0,69910.0,69422.0,67321.0,67165.0,65851.0,63890.0,149704.0,148968.0,148944.0,147166.0,145799.0,142449.0,140850.0,140768.0,139003.0,138661.0,132125.0,130669.0,129022.0,128779.0,128739.0,126548.0,123847.0,123079.0,122739.0,122018.0,121037.0,120789.0,119937.0,119873.0,119622.0,119499.0,117704.0,117414.0,116624.0,116246.0,115837.0,115539.0,115074.0,114888.0,114306.0,112306.0,111943.0,111373.0,110592.0,110454.0,110256.0,109854.0,108879.0,107297.0,107220.0,104131.0,101430.0,100876.0,93478.0,89766.0,115300.0,108000.0,106140.0,104520.0,104389.0,102235.0,102077.0,98854.0,98699.0,97492.0,96628.0,96141.0,95618.0,95305.0,95265.0,94604.0,94548.0,94139.0,93523.0,93485.0,93403.0,93120.0,91400.0,91366.0,90036.0,90013.0,89950.0,89727.0,88275.0,88152.0,87511.0,86823.0,86287.0,86269.0,85818.0,85739.0,85536.0,83549.0,83487.0,83310.0,82451.0,80749.0,80533.0,79873.0,78535.0,77503.0,77431.0,73847.0,73616.0,70687.0,164857.0,132676.0,144308.0,141268.0,159244.0,154763.0,138781.0,134397.0,155877.0,158966.0,156756.0,151374.0,145906.0,153895.0,154010.0,136953.0,147774.0,122062.0,153055.0,151227.0,146918.0,141555.0,139912.0,148221.0,145556.0,138506.0,142560.0,141055.0,132923.0,135642.0,133125.0,133783.0,130328.0,141048.0,136716.0,131931.0,137852.0,132109.0,126773.0,124520.0,135070.0,132282.0,129814.0,122905.0,124469.0,126866.0,115953.0,112685.0,120361.0,108918.0],\"y0\":\" \",\"yaxis\":\"y\",\"type\":\"box\"}],                        {\"template\":{\"data\":{\"histogram2dcontour\":[{\"type\":\"histogram2dcontour\",\"colorbar\":{\"outlinewidth\":0,\"ticks\":\"\"},\"colorscale\":[[0.0,\"#0d0887\"],[0.1111111111111111,\"#46039f\"],[0.2222222222222222,\"#7201a8\"],[0.3333333333333333,\"#9c179e\"],[0.4444444444444444,\"#bd3786\"],[0.5555555555555556,\"#d8576b\"],[0.6666666666666666,\"#ed7953\"],[0.7777777777777778,\"#fb9f3a\"],[0.8888888888888888,\"#fdca26\"],[1.0,\"#f0f921\"]]}],\"choropleth\":[{\"type\":\"choropleth\",\"colorbar\":{\"outlinewidth\":0,\"ticks\":\"\"}}],\"histogram2d\":[{\"type\":\"histogram2d\",\"colorbar\":{\"outlinewidth\":0,\"ticks\":\"\"},\"colorscale\":[[0.0,\"#0d0887\"],[0.1111111111111111,\"#46039f\"],[0.2222222222222222,\"#7201a8\"],[0.3333333333333333,\"#9c179e\"],[0.4444444444444444,\"#bd3786\"],[0.5555555555555556,\"#d8576b\"],[0.6666666666666666,\"#ed7953\"],[0.7777777777777778,\"#fb9f3a\"],[0.8888888888888888,\"#fdca26\"],[1.0,\"#f0f921\"]]}],\"heatmap\":[{\"type\":\"heatmap\",\"colorbar\":{\"outlinewidth\":0,\"ticks\":\"\"},\"colorscale\":[[0.0,\"#0d0887\"],[0.1111111111111111,\"#46039f\"],[0.2222222222222222,\"#7201a8\"],[0.3333333333333333,\"#9c179e\"],[0.4444444444444444,\"#bd3786\"],[0.5555555555555556,\"#d8576b\"],[0.6666666666666666,\"#ed7953\"],[0.7777777777777778,\"#fb9f3a\"],[0.8888888888888888,\"#fdca26\"],[1.0,\"#f0f921\"]]}],\"heatmapgl\":[{\"type\":\"heatmapgl\",\"colorbar\":{\"outlinewidth\":0,\"ticks\":\"\"},\"colorscale\":[[0.0,\"#0d0887\"],[0.1111111111111111,\"#46039f\"],[0.2222222222222222,\"#7201a8\"],[0.3333333333333333,\"#9c179e\"],[0.4444444444444444,\"#bd3786\"],[0.5555555555555556,\"#d8576b\"],[0.6666666666666666,\"#ed7953\"],[0.7777777777777778,\"#fb9f3a\"],[0.8888888888888888,\"#fdca26\"],[1.0,\"#f0f921\"]]}],\"contourcarpet\":[{\"type\":\"contourcarpet\",\"colorbar\":{\"outlinewidth\":0,\"ticks\":\"\"}}],\"contour\":[{\"type\":\"contour\",\"colorbar\":{\"outlinewidth\":0,\"ticks\":\"\"},\"colorscale\":[[0.0,\"#0d0887\"],[0.1111111111111111,\"#46039f\"],[0.2222222222222222,\"#7201a8\"],[0.3333333333333333,\"#9c179e\"],[0.4444444444444444,\"#bd3786\"],[0.5555555555555556,\"#d8576b\"],[0.6666666666666666,\"#ed7953\"],[0.7777777777777778,\"#fb9f3a\"],[0.8888888888888888,\"#fdca26\"],[1.0,\"#f0f921\"]]}],\"surface\":[{\"type\":\"surface\",\"colorbar\":{\"outlinewidth\":0,\"ticks\":\"\"},\"colorscale\":[[0.0,\"#0d0887\"],[0.1111111111111111,\"#46039f\"],[0.2222222222222222,\"#7201a8\"],[0.3333333333333333,\"#9c179e\"],[0.4444444444444444,\"#bd3786\"],[0.5555555555555556,\"#d8576b\"],[0.6666666666666666,\"#ed7953\"],[0.7777777777777778,\"#fb9f3a\"],[0.8888888888888888,\"#fdca26\"],[1.0,\"#f0f921\"]]}],\"mesh3d\":[{\"type\":\"mesh3d\",\"colorbar\":{\"outlinewidth\":0,\"ticks\":\"\"}}],\"scatter\":[{\"fillpattern\":{\"fillmode\":\"overlay\",\"size\":10,\"solidity\":0.2},\"type\":\"scatter\"}],\"parcoords\":[{\"type\":\"parcoords\",\"line\":{\"colorbar\":{\"outlinewidth\":0,\"ticks\":\"\"}}}],\"scatterpolargl\":[{\"type\":\"scatterpolargl\",\"marker\":{\"colorbar\":{\"outlinewidth\":0,\"ticks\":\"\"}}}],\"bar\":[{\"error_x\":{\"color\":\"#2a3f5f\"},\"error_y\":{\"color\":\"#2a3f5f\"},\"marker\":{\"line\":{\"color\":\"#E5ECF6\",\"width\":0.5},\"pattern\":{\"fillmode\":\"overlay\",\"size\":10,\"solidity\":0.2}},\"type\":\"bar\"}],\"scattergeo\":[{\"type\":\"scattergeo\",\"marker\":{\"colorbar\":{\"outlinewidth\":0,\"ticks\":\"\"}}}],\"scatterpolar\":[{\"type\":\"scatterpolar\",\"marker\":{\"colorbar\":{\"outlinewidth\":0,\"ticks\":\"\"}}}],\"histogram\":[{\"marker\":{\"pattern\":{\"fillmode\":\"overlay\",\"size\":10,\"solidity\":0.2}},\"type\":\"histogram\"}],\"scattergl\":[{\"type\":\"scattergl\",\"marker\":{\"colorbar\":{\"outlinewidth\":0,\"ticks\":\"\"}}}],\"scatter3d\":[{\"type\":\"scatter3d\",\"line\":{\"colorbar\":{\"outlinewidth\":0,\"ticks\":\"\"}},\"marker\":{\"colorbar\":{\"outlinewidth\":0,\"ticks\":\"\"}}}],\"scattermapbox\":[{\"type\":\"scattermapbox\",\"marker\":{\"colorbar\":{\"outlinewidth\":0,\"ticks\":\"\"}}}],\"scatterternary\":[{\"type\":\"scatterternary\",\"marker\":{\"colorbar\":{\"outlinewidth\":0,\"ticks\":\"\"}}}],\"scattercarpet\":[{\"type\":\"scattercarpet\",\"marker\":{\"colorbar\":{\"outlinewidth\":0,\"ticks\":\"\"}}}],\"carpet\":[{\"aaxis\":{\"endlinecolor\":\"#2a3f5f\",\"gridcolor\":\"white\",\"linecolor\":\"white\",\"minorgridcolor\":\"white\",\"startlinecolor\":\"#2a3f5f\"},\"baxis\":{\"endlinecolor\":\"#2a3f5f\",\"gridcolor\":\"white\",\"linecolor\":\"white\",\"minorgridcolor\":\"white\",\"startlinecolor\":\"#2a3f5f\"},\"type\":\"carpet\"}],\"table\":[{\"cells\":{\"fill\":{\"color\":\"#EBF0F8\"},\"line\":{\"color\":\"white\"}},\"header\":{\"fill\":{\"color\":\"#C8D4E3\"},\"line\":{\"color\":\"white\"}},\"type\":\"table\"}],\"barpolar\":[{\"marker\":{\"line\":{\"color\":\"#E5ECF6\",\"width\":0.5},\"pattern\":{\"fillmode\":\"overlay\",\"size\":10,\"solidity\":0.2}},\"type\":\"barpolar\"}],\"pie\":[{\"automargin\":true,\"type\":\"pie\"}]},\"layout\":{\"autotypenumbers\":\"strict\",\"colorway\":[\"#636efa\",\"#EF553B\",\"#00cc96\",\"#ab63fa\",\"#FFA15A\",\"#19d3f3\",\"#FF6692\",\"#B6E880\",\"#FF97FF\",\"#FECB52\"],\"font\":{\"color\":\"#2a3f5f\"},\"hovermode\":\"closest\",\"hoverlabel\":{\"align\":\"left\"},\"paper_bgcolor\":\"white\",\"plot_bgcolor\":\"#E5ECF6\",\"polar\":{\"bgcolor\":\"#E5ECF6\",\"angularaxis\":{\"gridcolor\":\"white\",\"linecolor\":\"white\",\"ticks\":\"\"},\"radialaxis\":{\"gridcolor\":\"white\",\"linecolor\":\"white\",\"ticks\":\"\"}},\"ternary\":{\"bgcolor\":\"#E5ECF6\",\"aaxis\":{\"gridcolor\":\"white\",\"linecolor\":\"white\",\"ticks\":\"\"},\"baxis\":{\"gridcolor\":\"white\",\"linecolor\":\"white\",\"ticks\":\"\"},\"caxis\":{\"gridcolor\":\"white\",\"linecolor\":\"white\",\"ticks\":\"\"}},\"coloraxis\":{\"colorbar\":{\"outlinewidth\":0,\"ticks\":\"\"}},\"colorscale\":{\"sequential\":[[0.0,\"#0d0887\"],[0.1111111111111111,\"#46039f\"],[0.2222222222222222,\"#7201a8\"],[0.3333333333333333,\"#9c179e\"],[0.4444444444444444,\"#bd3786\"],[0.5555555555555556,\"#d8576b\"],[0.6666666666666666,\"#ed7953\"],[0.7777777777777778,\"#fb9f3a\"],[0.8888888888888888,\"#fdca26\"],[1.0,\"#f0f921\"]],\"sequentialminus\":[[0.0,\"#0d0887\"],[0.1111111111111111,\"#46039f\"],[0.2222222222222222,\"#7201a8\"],[0.3333333333333333,\"#9c179e\"],[0.4444444444444444,\"#bd3786\"],[0.5555555555555556,\"#d8576b\"],[0.6666666666666666,\"#ed7953\"],[0.7777777777777778,\"#fb9f3a\"],[0.8888888888888888,\"#fdca26\"],[1.0,\"#f0f921\"]],\"diverging\":[[0,\"#8e0152\"],[0.1,\"#c51b7d\"],[0.2,\"#de77ae\"],[0.3,\"#f1b6da\"],[0.4,\"#fde0ef\"],[0.5,\"#f7f7f7\"],[0.6,\"#e6f5d0\"],[0.7,\"#b8e186\"],[0.8,\"#7fbc41\"],[0.9,\"#4d9221\"],[1,\"#276419\"]]},\"xaxis\":{\"gridcolor\":\"white\",\"linecolor\":\"white\",\"ticks\":\"\",\"title\":{\"standoff\":15},\"zerolinecolor\":\"white\",\"automargin\":true,\"zerolinewidth\":2},\"yaxis\":{\"gridcolor\":\"white\",\"linecolor\":\"white\",\"ticks\":\"\",\"title\":{\"standoff\":15},\"zerolinecolor\":\"white\",\"automargin\":true,\"zerolinewidth\":2},\"scene\":{\"xaxis\":{\"backgroundcolor\":\"#E5ECF6\",\"gridcolor\":\"white\",\"linecolor\":\"white\",\"showbackground\":true,\"ticks\":\"\",\"zerolinecolor\":\"white\",\"gridwidth\":2},\"yaxis\":{\"backgroundcolor\":\"#E5ECF6\",\"gridcolor\":\"white\",\"linecolor\":\"white\",\"showbackground\":true,\"ticks\":\"\",\"zerolinecolor\":\"white\",\"gridwidth\":2},\"zaxis\":{\"backgroundcolor\":\"#E5ECF6\",\"gridcolor\":\"white\",\"linecolor\":\"white\",\"showbackground\":true,\"ticks\":\"\",\"zerolinecolor\":\"white\",\"gridwidth\":2}},\"shapedefaults\":{\"line\":{\"color\":\"#2a3f5f\"}},\"annotationdefaults\":{\"arrowcolor\":\"#2a3f5f\",\"arrowhead\":0,\"arrowwidth\":1},\"geo\":{\"bgcolor\":\"white\",\"landcolor\":\"#E5ECF6\",\"subunitcolor\":\"white\",\"showland\":true,\"showlakes\":true,\"lakecolor\":\"white\"},\"title\":{\"x\":0.05},\"mapbox\":{\"style\":\"light\"}}},\"xaxis\":{\"anchor\":\"y\",\"domain\":[0.0,1.0],\"title\":{\"text\":\"Job\"}},\"yaxis\":{\"anchor\":\"x\",\"domain\":[0.0,1.0],\"title\":{\"text\":\"Annual Salary\"}},\"legend\":{\"tracegroupgap\":0},\"title\":{\"text\":\"Annual Salary Distribution by Job\"},\"boxmode\":\"group\"},                        {\"responsive\": true}                    ).then(function(){\n",
              "                            \n",
              "var gd = document.getElementById('2f376315-9d65-4ce2-a93d-dad9e96f9cd5');\n",
              "var x = new MutationObserver(function (mutations, observer) {{\n",
              "        var display = window.getComputedStyle(gd).display;\n",
              "        if (!display || display === 'none') {{\n",
              "            console.log([gd, 'removed!']);\n",
              "            Plotly.purge(gd);\n",
              "            observer.disconnect();\n",
              "        }}\n",
              "}});\n",
              "\n",
              "// Listen for the removal of the full notebook cells\n",
              "var notebookContainer = gd.closest('#notebook-container');\n",
              "if (notebookContainer) {{\n",
              "    x.observe(notebookContainer, {childList: true});\n",
              "}}\n",
              "\n",
              "// Listen for the clearing of the current output cell\n",
              "var outputEl = gd.closest('.output');\n",
              "if (outputEl) {{\n",
              "    x.observe(outputEl, {childList: true});\n",
              "}}\n",
              "\n",
              "                        })                };                            </script>        </div>\n",
              "</body>\n",
              "</html>"
            ]
          },
          "metadata": {}
        },
        {
          "output_type": "display_data",
          "data": {
            "text/html": [
              "<html>\n",
              "<head><meta charset=\"utf-8\" /></head>\n",
              "<body>\n",
              "    <div>            <script src=\"https://cdnjs.cloudflare.com/ajax/libs/mathjax/2.7.5/MathJax.js?config=TeX-AMS-MML_SVG\"></script><script type=\"text/javascript\">if (window.MathJax && window.MathJax.Hub && window.MathJax.Hub.Config) {window.MathJax.Hub.Config({SVG: {font: \"STIX-Web\"}});}</script>                <script type=\"text/javascript\">window.PlotlyConfig = {MathJaxConfig: 'local'};</script>\n",
              "        <script charset=\"utf-8\" src=\"https://cdn.plot.ly/plotly-2.24.1.min.js\"></script>                <div id=\"d0bbed8d-3ee4-425d-be7d-00ba4e2e6161\" class=\"plotly-graph-div\" style=\"height:525px; width:100%;\"></div>            <script type=\"text/javascript\">                                    window.PLOTLYENV=window.PLOTLYENV || {};                                    if (document.getElementById(\"d0bbed8d-3ee4-425d-be7d-00ba4e2e6161\")) {                    Plotly.newPlot(                        \"d0bbed8d-3ee4-425d-be7d-00ba4e2e6161\",                        [{\"alignmentgroup\":\"True\",\"hovertemplate\":\"State=%{x}\\u003cbr\\u003eAnnual Salary=%{y}\\u003cextra\\u003e\\u003c\\u002fextra\\u003e\",\"legendgroup\":\"\",\"marker\":{\"color\":\"#636efa\"},\"name\":\"\",\"notched\":false,\"offsetgroup\":\"\",\"orientation\":\"v\",\"showlegend\":false,\"x\":[\"New York\",\"Vermont\",\"California\",\"Maine\",\"Idaho\",\"Washington\",\"Pennsylvania\",\"Massachusetts\",\"Alaska\",\"New Jersey\",\"New Hampshire\",\"Oregon\",\"North Dakota\",\"Wisconsin\",\"Wyoming\",\"Hawaii\",\"Colorado\",\"Indiana\",\"Nevada\",\"New Mexico\",\"Minnesota\",\"Arizona\",\"South Dakota\",\"Montana\",\"Ohio\",\"Rhode Island\",\"Delaware\",\"Alabama\",\"Virginia\",\"Connecticut\",\"Iowa\",\"Illinois\",\"Mississippi\",\"Maryland\",\"Tennessee\",\"Utah\",\"Nebraska\",\"Missouri\",\"South Carolina\",\"Georgia\",\"Oklahoma\",\"Texas\",\"Kansas\",\"North Carolina\",\"Louisiana\",\"Kentucky\",\"Michigan\",\"West Virginia\",\"Arkansas\",\"Florida\",\"New York\",\"Pennsylvania\",\"New Hampshire\",\"New Jersey\",\"Wyoming\",\"Washington\",\"Wisconsin\",\"Massachusetts\",\"Alaska\",\"Oregon\",\"Indiana\",\"North Dakota\",\"Hawaii\",\"Arizona\",\"New Mexico\",\"Colorado\",\"Minnesota\",\"Montana\",\"Nevada\",\"Alabama\",\"South Dakota\",\"Vermont\",\"Ohio\",\"Rhode Island\",\"Iowa\",\"Delaware\",\"Connecticut\",\"Virginia\",\"Mississippi\",\"Tennessee\",\"Utah\",\"Illinois\",\"Georgia\",\"Maryland\",\"California\",\"Nebraska\",\"Maine\",\"Missouri\",\"South Carolina\",\"Kansas\",\"Idaho\",\"Louisiana\",\"Oklahoma\",\"Texas\",\"North Carolina\",\"West Virginia\",\"Kentucky\",\"Michigan\",\"Florida\",\"Arkansas\",\"Oregon\",\"Alaska\",\"North Dakota\",\"Massachusetts\",\"Hawaii\",\"Washington\",\"Nevada\",\"South Dakota\",\"Colorado\",\"Rhode Island\",\"New York\",\"Delaware\",\"Vermont\",\"Virginia\",\"Illinois\",\"Maryland\",\"Nebraska\",\"Missouri\",\"California\",\"South Carolina\",\"Pennsylvania\",\"New Jersey\",\"Oklahoma\",\"Maine\",\"Wisconsin\",\"North Carolina\",\"New Hampshire\",\"Idaho\",\"Texas\",\"Kentucky\",\"Wyoming\",\"Minnesota\",\"Michigan\",\"New Mexico\",\"Indiana\",\"Ohio\",\"Arizona\",\"Connecticut\",\"Mississippi\",\"Iowa\",\"Montana\",\"Arkansas\",\"Alabama\",\"Utah\",\"Tennessee\",\"Kansas\",\"Georgia\",\"Louisiana\",\"West Virginia\",\"Florida\",\"Washington\",\"Delaware\",\"Virginia\",\"Maryland\",\"New York\",\"Vermont\",\"Nebraska\",\"Oklahoma\",\"California\",\"Massachusetts\",\"Alaska\",\"Maine\",\"Pennsylvania\",\"Oregon\",\"North Dakota\",\"Idaho\",\"New Jersey\",\"Texas\",\"Colorado\",\"Hawaii\",\"Wisconsin\",\"New Hampshire\",\"Wyoming\",\"Nevada\",\"South Dakota\",\"Indiana\",\"Minnesota\",\"New Mexico\",\"Rhode Island\",\"Arizona\",\"Ohio\",\"Montana\",\"Connecticut\",\"Illinois\",\"Iowa\",\"Alabama\",\"Mississippi\",\"Tennessee\",\"Utah\",\"Missouri\",\"South Carolina\",\"North Carolina\",\"Kansas\",\"Georgia\",\"Louisiana\",\"Michigan\",\"Kentucky\",\"West Virginia\",\"Arkansas\",\"Florida\",\"Washington\",\"Delaware\",\"Virginia\",\"Maryland\",\"New York\",\"Vermont\",\"Nebraska\",\"Oklahoma\",\"California\",\"Massachusetts\",\"Alaska\",\"Maine\",\"Pennsylvania\",\"Oregon\",\"North Dakota\",\"Idaho\",\"New Jersey\",\"Texas\",\"Colorado\",\"Hawaii\",\"Wisconsin\",\"New Hampshire\",\"Wyoming\",\"Nevada\",\"South Dakota\",\"Indiana\",\"Minnesota\",\"New Mexico\",\"Rhode Island\",\"Arizona\",\"Ohio\",\"Montana\",\"Connecticut\",\"Illinois\",\"Iowa\",\"Alabama\",\"Mississippi\",\"Tennessee\",\"Utah\",\"Missouri\",\"South Carolina\",\"North Carolina\",\"Kansas\",\"Georgia\",\"Louisiana\",\"Michigan\",\"Kentucky\",\"West Virginia\",\"Arkansas\",\"Florida\"],\"x0\":\" \",\"xaxis\":\"x\",\"y\":[136172.0,133828.0,131441.0,127644.0,126275.0,125289.0,124713.0,123188.0,122407.0,121955.0,121666.0,121011.0,120890.0,120117.0,119040.0,118595.0,117956.0,116954.0,115741.0,115421.0,115258.0,114536.0,114254.0,112811.0,112255.0,112085.0,111877.0,111402.0,110662.0,109897.0,109690.0,108858.0,108712.0,108449.0,107174.0,106899.0,106424.0,105000.0,103937.0,103779.0,103063.0,102927.0,102344.0,101792.0,100631.0,97776.0,97737.0,96317.0,92891.0,91843.0,98166.0,89890.0,87898.0,86566.0,85631.0,85515.0,84902.0,84899.0,84677.0,83991.0,83857.0,83837.0,82209.0,82123.0,81613.0,81074.0,81053.0,80886.0,80065.0,79876.0,79235.0,79108.0,79063.0,77796.0,76863.0,76760.0,76617.0,75872.0,75561.0,75487.0,75098.0,74872.0,74409.0,74394.0,74169.0,72966.0,72629.0,72093.0,71384.0,71124.0,70811.0,70765.0,70662.0,70205.0,69910.0,69422.0,67321.0,67165.0,65851.0,63890.0,149704.0,148968.0,148944.0,147166.0,145799.0,142449.0,140850.0,140768.0,139003.0,138661.0,132125.0,130669.0,129022.0,128779.0,128739.0,126548.0,123847.0,123079.0,122739.0,122018.0,121037.0,120789.0,119937.0,119873.0,119622.0,119499.0,117704.0,117414.0,116624.0,116246.0,115837.0,115539.0,115074.0,114888.0,114306.0,112306.0,111943.0,111373.0,110592.0,110454.0,110256.0,109854.0,108879.0,107297.0,107220.0,104131.0,101430.0,100876.0,93478.0,89766.0,115300.0,108000.0,106140.0,104520.0,104389.0,102235.0,102077.0,98854.0,98699.0,97492.0,96628.0,96141.0,95618.0,95305.0,95265.0,94604.0,94548.0,94139.0,93523.0,93485.0,93403.0,93120.0,91400.0,91366.0,90036.0,90013.0,89950.0,89727.0,88275.0,88152.0,87511.0,86823.0,86287.0,86269.0,85818.0,85739.0,85536.0,83549.0,83487.0,83310.0,82451.0,80749.0,80533.0,79873.0,78535.0,77503.0,77431.0,73847.0,73616.0,70687.0,164857.0,132676.0,144308.0,141268.0,159244.0,154763.0,138781.0,134397.0,155877.0,158966.0,156756.0,151374.0,145906.0,153895.0,154010.0,136953.0,147774.0,122062.0,153055.0,151227.0,146918.0,141555.0,139912.0,148221.0,145556.0,138506.0,142560.0,141055.0,132923.0,135642.0,133125.0,133783.0,130328.0,141048.0,136716.0,131931.0,137852.0,132109.0,126773.0,124520.0,135070.0,132282.0,129814.0,122905.0,124469.0,126866.0,115953.0,112685.0,120361.0,108918.0],\"y0\":\" \",\"yaxis\":\"y\",\"type\":\"box\"}],                        {\"template\":{\"data\":{\"histogram2dcontour\":[{\"type\":\"histogram2dcontour\",\"colorbar\":{\"outlinewidth\":0,\"ticks\":\"\"},\"colorscale\":[[0.0,\"#0d0887\"],[0.1111111111111111,\"#46039f\"],[0.2222222222222222,\"#7201a8\"],[0.3333333333333333,\"#9c179e\"],[0.4444444444444444,\"#bd3786\"],[0.5555555555555556,\"#d8576b\"],[0.6666666666666666,\"#ed7953\"],[0.7777777777777778,\"#fb9f3a\"],[0.8888888888888888,\"#fdca26\"],[1.0,\"#f0f921\"]]}],\"choropleth\":[{\"type\":\"choropleth\",\"colorbar\":{\"outlinewidth\":0,\"ticks\":\"\"}}],\"histogram2d\":[{\"type\":\"histogram2d\",\"colorbar\":{\"outlinewidth\":0,\"ticks\":\"\"},\"colorscale\":[[0.0,\"#0d0887\"],[0.1111111111111111,\"#46039f\"],[0.2222222222222222,\"#7201a8\"],[0.3333333333333333,\"#9c179e\"],[0.4444444444444444,\"#bd3786\"],[0.5555555555555556,\"#d8576b\"],[0.6666666666666666,\"#ed7953\"],[0.7777777777777778,\"#fb9f3a\"],[0.8888888888888888,\"#fdca26\"],[1.0,\"#f0f921\"]]}],\"heatmap\":[{\"type\":\"heatmap\",\"colorbar\":{\"outlinewidth\":0,\"ticks\":\"\"},\"colorscale\":[[0.0,\"#0d0887\"],[0.1111111111111111,\"#46039f\"],[0.2222222222222222,\"#7201a8\"],[0.3333333333333333,\"#9c179e\"],[0.4444444444444444,\"#bd3786\"],[0.5555555555555556,\"#d8576b\"],[0.6666666666666666,\"#ed7953\"],[0.7777777777777778,\"#fb9f3a\"],[0.8888888888888888,\"#fdca26\"],[1.0,\"#f0f921\"]]}],\"heatmapgl\":[{\"type\":\"heatmapgl\",\"colorbar\":{\"outlinewidth\":0,\"ticks\":\"\"},\"colorscale\":[[0.0,\"#0d0887\"],[0.1111111111111111,\"#46039f\"],[0.2222222222222222,\"#7201a8\"],[0.3333333333333333,\"#9c179e\"],[0.4444444444444444,\"#bd3786\"],[0.5555555555555556,\"#d8576b\"],[0.6666666666666666,\"#ed7953\"],[0.7777777777777778,\"#fb9f3a\"],[0.8888888888888888,\"#fdca26\"],[1.0,\"#f0f921\"]]}],\"contourcarpet\":[{\"type\":\"contourcarpet\",\"colorbar\":{\"outlinewidth\":0,\"ticks\":\"\"}}],\"contour\":[{\"type\":\"contour\",\"colorbar\":{\"outlinewidth\":0,\"ticks\":\"\"},\"colorscale\":[[0.0,\"#0d0887\"],[0.1111111111111111,\"#46039f\"],[0.2222222222222222,\"#7201a8\"],[0.3333333333333333,\"#9c179e\"],[0.4444444444444444,\"#bd3786\"],[0.5555555555555556,\"#d8576b\"],[0.6666666666666666,\"#ed7953\"],[0.7777777777777778,\"#fb9f3a\"],[0.8888888888888888,\"#fdca26\"],[1.0,\"#f0f921\"]]}],\"surface\":[{\"type\":\"surface\",\"colorbar\":{\"outlinewidth\":0,\"ticks\":\"\"},\"colorscale\":[[0.0,\"#0d0887\"],[0.1111111111111111,\"#46039f\"],[0.2222222222222222,\"#7201a8\"],[0.3333333333333333,\"#9c179e\"],[0.4444444444444444,\"#bd3786\"],[0.5555555555555556,\"#d8576b\"],[0.6666666666666666,\"#ed7953\"],[0.7777777777777778,\"#fb9f3a\"],[0.8888888888888888,\"#fdca26\"],[1.0,\"#f0f921\"]]}],\"mesh3d\":[{\"type\":\"mesh3d\",\"colorbar\":{\"outlinewidth\":0,\"ticks\":\"\"}}],\"scatter\":[{\"fillpattern\":{\"fillmode\":\"overlay\",\"size\":10,\"solidity\":0.2},\"type\":\"scatter\"}],\"parcoords\":[{\"type\":\"parcoords\",\"line\":{\"colorbar\":{\"outlinewidth\":0,\"ticks\":\"\"}}}],\"scatterpolargl\":[{\"type\":\"scatterpolargl\",\"marker\":{\"colorbar\":{\"outlinewidth\":0,\"ticks\":\"\"}}}],\"bar\":[{\"error_x\":{\"color\":\"#2a3f5f\"},\"error_y\":{\"color\":\"#2a3f5f\"},\"marker\":{\"line\":{\"color\":\"#E5ECF6\",\"width\":0.5},\"pattern\":{\"fillmode\":\"overlay\",\"size\":10,\"solidity\":0.2}},\"type\":\"bar\"}],\"scattergeo\":[{\"type\":\"scattergeo\",\"marker\":{\"colorbar\":{\"outlinewidth\":0,\"ticks\":\"\"}}}],\"scatterpolar\":[{\"type\":\"scatterpolar\",\"marker\":{\"colorbar\":{\"outlinewidth\":0,\"ticks\":\"\"}}}],\"histogram\":[{\"marker\":{\"pattern\":{\"fillmode\":\"overlay\",\"size\":10,\"solidity\":0.2}},\"type\":\"histogram\"}],\"scattergl\":[{\"type\":\"scattergl\",\"marker\":{\"colorbar\":{\"outlinewidth\":0,\"ticks\":\"\"}}}],\"scatter3d\":[{\"type\":\"scatter3d\",\"line\":{\"colorbar\":{\"outlinewidth\":0,\"ticks\":\"\"}},\"marker\":{\"colorbar\":{\"outlinewidth\":0,\"ticks\":\"\"}}}],\"scattermapbox\":[{\"type\":\"scattermapbox\",\"marker\":{\"colorbar\":{\"outlinewidth\":0,\"ticks\":\"\"}}}],\"scatterternary\":[{\"type\":\"scatterternary\",\"marker\":{\"colorbar\":{\"outlinewidth\":0,\"ticks\":\"\"}}}],\"scattercarpet\":[{\"type\":\"scattercarpet\",\"marker\":{\"colorbar\":{\"outlinewidth\":0,\"ticks\":\"\"}}}],\"carpet\":[{\"aaxis\":{\"endlinecolor\":\"#2a3f5f\",\"gridcolor\":\"white\",\"linecolor\":\"white\",\"minorgridcolor\":\"white\",\"startlinecolor\":\"#2a3f5f\"},\"baxis\":{\"endlinecolor\":\"#2a3f5f\",\"gridcolor\":\"white\",\"linecolor\":\"white\",\"minorgridcolor\":\"white\",\"startlinecolor\":\"#2a3f5f\"},\"type\":\"carpet\"}],\"table\":[{\"cells\":{\"fill\":{\"color\":\"#EBF0F8\"},\"line\":{\"color\":\"white\"}},\"header\":{\"fill\":{\"color\":\"#C8D4E3\"},\"line\":{\"color\":\"white\"}},\"type\":\"table\"}],\"barpolar\":[{\"marker\":{\"line\":{\"color\":\"#E5ECF6\",\"width\":0.5},\"pattern\":{\"fillmode\":\"overlay\",\"size\":10,\"solidity\":0.2}},\"type\":\"barpolar\"}],\"pie\":[{\"automargin\":true,\"type\":\"pie\"}]},\"layout\":{\"autotypenumbers\":\"strict\",\"colorway\":[\"#636efa\",\"#EF553B\",\"#00cc96\",\"#ab63fa\",\"#FFA15A\",\"#19d3f3\",\"#FF6692\",\"#B6E880\",\"#FF97FF\",\"#FECB52\"],\"font\":{\"color\":\"#2a3f5f\"},\"hovermode\":\"closest\",\"hoverlabel\":{\"align\":\"left\"},\"paper_bgcolor\":\"white\",\"plot_bgcolor\":\"#E5ECF6\",\"polar\":{\"bgcolor\":\"#E5ECF6\",\"angularaxis\":{\"gridcolor\":\"white\",\"linecolor\":\"white\",\"ticks\":\"\"},\"radialaxis\":{\"gridcolor\":\"white\",\"linecolor\":\"white\",\"ticks\":\"\"}},\"ternary\":{\"bgcolor\":\"#E5ECF6\",\"aaxis\":{\"gridcolor\":\"white\",\"linecolor\":\"white\",\"ticks\":\"\"},\"baxis\":{\"gridcolor\":\"white\",\"linecolor\":\"white\",\"ticks\":\"\"},\"caxis\":{\"gridcolor\":\"white\",\"linecolor\":\"white\",\"ticks\":\"\"}},\"coloraxis\":{\"colorbar\":{\"outlinewidth\":0,\"ticks\":\"\"}},\"colorscale\":{\"sequential\":[[0.0,\"#0d0887\"],[0.1111111111111111,\"#46039f\"],[0.2222222222222222,\"#7201a8\"],[0.3333333333333333,\"#9c179e\"],[0.4444444444444444,\"#bd3786\"],[0.5555555555555556,\"#d8576b\"],[0.6666666666666666,\"#ed7953\"],[0.7777777777777778,\"#fb9f3a\"],[0.8888888888888888,\"#fdca26\"],[1.0,\"#f0f921\"]],\"sequentialminus\":[[0.0,\"#0d0887\"],[0.1111111111111111,\"#46039f\"],[0.2222222222222222,\"#7201a8\"],[0.3333333333333333,\"#9c179e\"],[0.4444444444444444,\"#bd3786\"],[0.5555555555555556,\"#d8576b\"],[0.6666666666666666,\"#ed7953\"],[0.7777777777777778,\"#fb9f3a\"],[0.8888888888888888,\"#fdca26\"],[1.0,\"#f0f921\"]],\"diverging\":[[0,\"#8e0152\"],[0.1,\"#c51b7d\"],[0.2,\"#de77ae\"],[0.3,\"#f1b6da\"],[0.4,\"#fde0ef\"],[0.5,\"#f7f7f7\"],[0.6,\"#e6f5d0\"],[0.7,\"#b8e186\"],[0.8,\"#7fbc41\"],[0.9,\"#4d9221\"],[1,\"#276419\"]]},\"xaxis\":{\"gridcolor\":\"white\",\"linecolor\":\"white\",\"ticks\":\"\",\"title\":{\"standoff\":15},\"zerolinecolor\":\"white\",\"automargin\":true,\"zerolinewidth\":2},\"yaxis\":{\"gridcolor\":\"white\",\"linecolor\":\"white\",\"ticks\":\"\",\"title\":{\"standoff\":15},\"zerolinecolor\":\"white\",\"automargin\":true,\"zerolinewidth\":2},\"scene\":{\"xaxis\":{\"backgroundcolor\":\"#E5ECF6\",\"gridcolor\":\"white\",\"linecolor\":\"white\",\"showbackground\":true,\"ticks\":\"\",\"zerolinecolor\":\"white\",\"gridwidth\":2},\"yaxis\":{\"backgroundcolor\":\"#E5ECF6\",\"gridcolor\":\"white\",\"linecolor\":\"white\",\"showbackground\":true,\"ticks\":\"\",\"zerolinecolor\":\"white\",\"gridwidth\":2},\"zaxis\":{\"backgroundcolor\":\"#E5ECF6\",\"gridcolor\":\"white\",\"linecolor\":\"white\",\"showbackground\":true,\"ticks\":\"\",\"zerolinecolor\":\"white\",\"gridwidth\":2}},\"shapedefaults\":{\"line\":{\"color\":\"#2a3f5f\"}},\"annotationdefaults\":{\"arrowcolor\":\"#2a3f5f\",\"arrowhead\":0,\"arrowwidth\":1},\"geo\":{\"bgcolor\":\"white\",\"landcolor\":\"#E5ECF6\",\"subunitcolor\":\"white\",\"showland\":true,\"showlakes\":true,\"lakecolor\":\"white\"},\"title\":{\"x\":0.05},\"mapbox\":{\"style\":\"light\"}}},\"xaxis\":{\"anchor\":\"y\",\"domain\":[0.0,1.0],\"title\":{\"text\":\"State\"}},\"yaxis\":{\"anchor\":\"x\",\"domain\":[0.0,1.0],\"title\":{\"text\":\"Annual Salary\"}},\"legend\":{\"tracegroupgap\":0},\"title\":{\"text\":\"Annual Salary Distribution by State\"},\"boxmode\":\"group\"},                        {\"responsive\": true}                    ).then(function(){\n",
              "                            \n",
              "var gd = document.getElementById('d0bbed8d-3ee4-425d-be7d-00ba4e2e6161');\n",
              "var x = new MutationObserver(function (mutations, observer) {{\n",
              "        var display = window.getComputedStyle(gd).display;\n",
              "        if (!display || display === 'none') {{\n",
              "            console.log([gd, 'removed!']);\n",
              "            Plotly.purge(gd);\n",
              "            observer.disconnect();\n",
              "        }}\n",
              "}});\n",
              "\n",
              "// Listen for the removal of the full notebook cells\n",
              "var notebookContainer = gd.closest('#notebook-container');\n",
              "if (notebookContainer) {{\n",
              "    x.observe(notebookContainer, {childList: true});\n",
              "}}\n",
              "\n",
              "// Listen for the clearing of the current output cell\n",
              "var outputEl = gd.closest('.output');\n",
              "if (outputEl) {{\n",
              "    x.observe(outputEl, {childList: true});\n",
              "}}\n",
              "\n",
              "                        })                };                            </script>        </div>\n",
              "</body>\n",
              "</html>"
            ]
          },
          "metadata": {}
        }
      ]
    },
    {
      "cell_type": "code",
      "source": [
        "df2 = df.copy()\n",
        "# Calculate the average annual salary for each state\n",
        "avg_salary_per_state = df.groupby('State')['Annual Salary'].mean().reset_index()\n",
        "\n",
        "# Rename the column for clarity\n",
        "avg_salary_per_state = avg_salary_per_state.rename(columns={'Annual Salary': 'Avg Annual Salary'})\n",
        "\n",
        "# Print the resulting DataFrame\n",
        "print(avg_salary_per_state)"
      ],
      "metadata": {
        "colab": {
          "base_uri": "https://localhost:8080/"
        },
        "id": "1U7LOGi_Ftbe",
        "outputId": "144cb4e1-3789-486f-daac-6708ac4a568d"
      },
      "execution_count": 100,
      "outputs": [
        {
          "output_type": "stream",
          "name": "stdout",
          "text": [
            "             State  Avg Annual Salary\n",
            "0          Alabama           103565.4\n",
            "1           Alaska           121887.2\n",
            "2          Arizona           106479.2\n",
            "3         Arkansas            92122.4\n",
            "4       California           116585.0\n",
            "5         Colorado           116922.2\n",
            "6      Connecticut           102900.4\n",
            "7         Delaware           111996.4\n",
            "8          Florida            85413.0\n",
            "9          Georgia            96479.2\n",
            "10          Hawaii           118263.0\n",
            "11           Idaho           109211.4\n",
            "12        Illinois           107957.2\n",
            "13         Indiana           108727.2\n",
            "14            Iowa           103908.2\n",
            "15          Kansas            97589.2\n",
            "16        Kentucky            94945.4\n",
            "17       Louisiana            95055.2\n",
            "18           Maine           113532.2\n",
            "19        Maryland           111035.8\n",
            "20   Massachusetts           122342.2\n",
            "21        Michigan            96869.0\n",
            "22       Minnesota           108872.0\n",
            "23     Mississippi           103650.6\n",
            "24        Missouri           101600.4\n",
            "25         Montana           104911.8\n",
            "26        Nebraska           108819.0\n",
            "27          Nevada           115248.6\n",
            "28   New Hampshire           112388.6\n",
            "29      New Jersey           114326.4\n",
            "30      New Mexico           108540.8\n",
            "31        New York           126019.2\n",
            "32  North Carolina           100846.4\n",
            "33    North Dakota           120589.2\n",
            "34            Ohio           104852.0\n",
            "35        Oklahoma           105382.6\n",
            "36          Oregon           120781.2\n",
            "37    Pennsylvania           115432.8\n",
            "38    Rhode Island           109948.0\n",
            "39  South Carolina           102972.0\n",
            "40    South Dakota           113969.8\n",
            "41       Tennessee           101107.8\n",
            "42           Texas           101191.4\n",
            "43            Utah            99910.8\n",
            "44         Vermont           119791.2\n",
            "45        Virginia           113152.2\n",
            "46      Washington           126682.0\n",
            "47   West Virginia            89149.8\n",
            "48       Wisconsin           112992.4\n",
            "49         Wyoming           110364.0\n"
          ]
        }
      ]
    },
    {
      "cell_type": "code",
      "source": [
        "# Create the Dash app\n",
        "app = dash.Dash(__name__)\n",
        "\n",
        "# Create the layout of the app\n",
        "app.layout = html.Div([\n",
        "    dcc.Graph(id='salary-map', figure={})\n",
        "])\n",
        "\n",
        "# Define the callback to update the map\n",
        "@app.callback(\n",
        "    Output('salary-map', 'figure'),\n",
        "    Input('salary-map', 'hoverData')\n",
        ")\n",
        "def update_map(hoverData):\n",
        "    # Create the choropleth map using Plotly Express\n",
        "    fig = px.choropleth(\n",
        "        avg_salary_per_state,\n",
        "        locations='State',\n",
        "        locationmode='USA-states',\n",
        "        color='Avg Annual Salary',\n",
        "        color_continuous_scale='Viridis',\n",
        "        range_color=(avg_salary_per_state['Avg Annual Salary'].min(), avg_salary_per_state['Avg Annual Salary'].max()),\n",
        "        scope='usa',\n",
        "        labels={'Avg Annual Salary': 'Average Annual Salary ($)'}\n",
        "    )\n",
        "\n",
        "    # Update layout\n",
        "    #fig.update_layout(\n",
        "     #   title='Average Annual Salaries in the US by State',\n",
        "      #  geo=dict(\n",
        "       #     scope='usa',\n",
        "        #    projection=go.layout.geo.Projection(type='albers usa'),\n",
        "         #   showlakes=True,\n",
        "          #  lakecolor='rgb(255, 255, 255)'\n",
        "        #)\n",
        "    #)\n",
        "\n",
        "    return fig\n",
        "\n",
        "# Run the app\n",
        "if __name__ == '__main__':\n",
        "    app.run_server(debug=True)"
      ],
      "metadata": {
        "colab": {
          "base_uri": "https://localhost:8080/",
          "height": 672
        },
        "id": "g110ZcN9EKvA",
        "outputId": "bf0eaf6c-81ae-47d5-879d-40c650b243f4"
      },
      "execution_count": 127,
      "outputs": [
        {
          "output_type": "display_data",
          "data": {
            "text/plain": [
              "<IPython.core.display.Javascript object>"
            ],
            "application/javascript": [
              "(async (port, path, width, height, cache, element) => {\n",
              "    if (!google.colab.kernel.accessAllowed && !cache) {\n",
              "      return;\n",
              "    }\n",
              "    element.appendChild(document.createTextNode(''));\n",
              "    const url = await google.colab.kernel.proxyPort(port, {cache});\n",
              "    const iframe = document.createElement('iframe');\n",
              "    iframe.src = new URL(path, url).toString();\n",
              "    iframe.height = height;\n",
              "    iframe.width = width;\n",
              "    iframe.style.border = 0;\n",
              "    iframe.allow = [\n",
              "        'accelerometer',\n",
              "        'autoplay',\n",
              "        'camera',\n",
              "        'clipboard-read',\n",
              "        'clipboard-write',\n",
              "        'gyroscope',\n",
              "        'magnetometer',\n",
              "        'microphone',\n",
              "        'serial',\n",
              "        'usb',\n",
              "        'xr-spatial-tracking',\n",
              "    ].join('; ');\n",
              "    element.appendChild(iframe);\n",
              "  })(8050, \"/\", \"100%\", 650, false, window.element)"
            ]
          },
          "metadata": {}
        }
      ]
    },
    {
      "cell_type": "code",
      "source": [
        "avg_salary_per_state['State'].unique()"
      ],
      "metadata": {
        "colab": {
          "base_uri": "https://localhost:8080/"
        },
        "id": "8kX53VC7GiuF",
        "outputId": "14f50b50-92f2-4087-9a28-6047c2736e1c"
      },
      "execution_count": 102,
      "outputs": [
        {
          "output_type": "execute_result",
          "data": {
            "text/plain": [
              "array(['Alabama', 'Alaska', 'Arizona', 'Arkansas', 'California',\n",
              "       'Colorado', 'Connecticut', 'Delaware', 'Florida', 'Georgia',\n",
              "       'Hawaii', 'Idaho', 'Illinois', 'Indiana', 'Iowa', 'Kansas',\n",
              "       'Kentucky', 'Louisiana', 'Maine', 'Maryland', 'Massachusetts',\n",
              "       'Michigan', 'Minnesota', 'Mississippi', 'Missouri', 'Montana',\n",
              "       'Nebraska', 'Nevada', 'New Hampshire', 'New Jersey', 'New Mexico',\n",
              "       'New York', 'North Carolina', 'North Dakota', 'Ohio', 'Oklahoma',\n",
              "       'Oregon', 'Pennsylvania', 'Rhode Island', 'South Carolina',\n",
              "       'South Dakota', 'Tennessee', 'Texas', 'Utah', 'Vermont',\n",
              "       'Virginia', 'Washington', 'West Virginia', 'Wisconsin', 'Wyoming'],\n",
              "      dtype=object)"
            ]
          },
          "metadata": {},
          "execution_count": 102
        }
      ]
    },
    {
      "cell_type": "code",
      "source": [
        "import plotly.figure_factory as ff\n",
        "!pip install plotly-geo"
      ],
      "metadata": {
        "colab": {
          "base_uri": "https://localhost:8080/"
        },
        "id": "gg3d2arMJJkZ",
        "outputId": "99954070-16ee-4d34-ab32-cff466153f40"
      },
      "execution_count": 107,
      "outputs": [
        {
          "output_type": "stream",
          "name": "stdout",
          "text": [
            "Requirement already satisfied: plotly-geo in /usr/local/lib/python3.10/dist-packages (1.0.0)\n"
          ]
        }
      ]
    },
    {
      "cell_type": "code",
      "source": [
        "import plotly.graph_objects as go\n",
        "\n",
        "# Define the choropleth map using go.Figure and go.Choropleth\n",
        "heat_map2 = go.Figure(go.Choropleth(\n",
        "    locations = avg_salary_per_state['State'],  # Specify the locations (states)\n",
        "    z = avg_salary_per_state['Avg Annual Salary'],  # Specify the values for the color scale\n",
        "    locationmode = 'USA-states',  # Set the location mode to USA-states\n",
        "    colorscale = 'sunset',  # Set color scale\n",
        "    colorbar_title = 'Average Annual Salary ($)',  # Set color bar title\n",
        "    hoverinfo = 'location+z',  # Specify hover info to include location and value\n",
        "    text = avg_salary_per_state['State'],  # Specify the text to be displayed on hover\n",
        "))\n",
        "\n",
        "# Update the layout\n",
        "heat_map2.update_layout(\n",
        "    title = 'Average Annual Salaries in the US by State',\n",
        "    geo = dict(\n",
        "        scope = 'usa',\n",
        "        projection = dict(type = 'albers usa'),\n",
        "        showlakes = True,\n",
        "        lakecolor = 'rgb(255, 255, 255)'\n",
        "    ),\n",
        "    annotations = [\n",
        "        dict(\n",
        "            x = 0.05,  # X-coordinate of the subtitle\n",
        "            y = 1.00,  # Y-coordinate of the subtitle (adjusted for the subtitle)\n",
        "            xref = 'paper',\n",
        "            yref = 'paper',\n",
        "            text = 'Can stricter gun laws reduce firearm gun deaths?',  # Text of the subtitle\n",
        "            showarrow = False,  # Set to True if you want an arrow pointing to the subtitle\n",
        "            font = dict(size = 14)  # Adjust the font size as needed\n",
        "        ),\n",
        "        dict(\n",
        "            x = 0.05,  # X-coordinate of the note\n",
        "            y = 0.05,  # Y-coordinate of the note\n",
        "            xref = 'paper',\n",
        "            yref = 'paper',\n",
        "            text = 'Rank is from 1 being an A and 5 being an F',  # Text of the note\n",
        "            showarrow = False  # Set to True if you want an arrow pointing to the note\n",
        "        )\n",
        "    ]\n",
        ")\n",
        "\n",
        "# Display the heat map\n",
        "heat_map2.show()\n"
      ],
      "metadata": {
        "colab": {
          "base_uri": "https://localhost:8080/",
          "height": 542
        },
        "id": "_RGkkE6CGtKy",
        "outputId": "017b9786-61df-4480-f1f6-0d60061cac66"
      },
      "execution_count": 125,
      "outputs": [
        {
          "output_type": "display_data",
          "data": {
            "text/html": [
              "<html>\n",
              "<head><meta charset=\"utf-8\" /></head>\n",
              "<body>\n",
              "    <div>            <script src=\"https://cdnjs.cloudflare.com/ajax/libs/mathjax/2.7.5/MathJax.js?config=TeX-AMS-MML_SVG\"></script><script type=\"text/javascript\">if (window.MathJax && window.MathJax.Hub && window.MathJax.Hub.Config) {window.MathJax.Hub.Config({SVG: {font: \"STIX-Web\"}});}</script>                <script type=\"text/javascript\">window.PlotlyConfig = {MathJaxConfig: 'local'};</script>\n",
              "        <script charset=\"utf-8\" src=\"https://cdn.plot.ly/plotly-2.24.1.min.js\"></script>                <div id=\"e9c76c0d-b1f4-4956-90b1-942c3e8b30e5\" class=\"plotly-graph-div\" style=\"height:525px; width:100%;\"></div>            <script type=\"text/javascript\">                                    window.PLOTLYENV=window.PLOTLYENV || {};                                    if (document.getElementById(\"e9c76c0d-b1f4-4956-90b1-942c3e8b30e5\")) {                    Plotly.newPlot(                        \"e9c76c0d-b1f4-4956-90b1-942c3e8b30e5\",                        [{\"colorbar\":{\"title\":{\"text\":\"Average Annual Salary ($)\"}},\"colorscale\":[[0.0,\"rgb(243, 231, 155)\"],[0.16666666666666666,\"rgb(250, 196, 132)\"],[0.3333333333333333,\"rgb(248, 160, 126)\"],[0.5,\"rgb(235, 127, 134)\"],[0.6666666666666666,\"rgb(206, 102, 147)\"],[0.8333333333333334,\"rgb(160, 89, 160)\"],[1.0,\"rgb(92, 83, 165)\"]],\"hoverinfo\":\"location+z\",\"locationmode\":\"USA-states\",\"locations\":[\"Alabama\",\"Alaska\",\"Arizona\",\"Arkansas\",\"California\",\"Colorado\",\"Connecticut\",\"Delaware\",\"Florida\",\"Georgia\",\"Hawaii\",\"Idaho\",\"Illinois\",\"Indiana\",\"Iowa\",\"Kansas\",\"Kentucky\",\"Louisiana\",\"Maine\",\"Maryland\",\"Massachusetts\",\"Michigan\",\"Minnesota\",\"Mississippi\",\"Missouri\",\"Montana\",\"Nebraska\",\"Nevada\",\"New Hampshire\",\"New Jersey\",\"New Mexico\",\"New York\",\"North Carolina\",\"North Dakota\",\"Ohio\",\"Oklahoma\",\"Oregon\",\"Pennsylvania\",\"Rhode Island\",\"South Carolina\",\"South Dakota\",\"Tennessee\",\"Texas\",\"Utah\",\"Vermont\",\"Virginia\",\"Washington\",\"West Virginia\",\"Wisconsin\",\"Wyoming\"],\"text\":[\"Alabama\",\"Alaska\",\"Arizona\",\"Arkansas\",\"California\",\"Colorado\",\"Connecticut\",\"Delaware\",\"Florida\",\"Georgia\",\"Hawaii\",\"Idaho\",\"Illinois\",\"Indiana\",\"Iowa\",\"Kansas\",\"Kentucky\",\"Louisiana\",\"Maine\",\"Maryland\",\"Massachusetts\",\"Michigan\",\"Minnesota\",\"Mississippi\",\"Missouri\",\"Montana\",\"Nebraska\",\"Nevada\",\"New Hampshire\",\"New Jersey\",\"New Mexico\",\"New York\",\"North Carolina\",\"North Dakota\",\"Ohio\",\"Oklahoma\",\"Oregon\",\"Pennsylvania\",\"Rhode Island\",\"South Carolina\",\"South Dakota\",\"Tennessee\",\"Texas\",\"Utah\",\"Vermont\",\"Virginia\",\"Washington\",\"West Virginia\",\"Wisconsin\",\"Wyoming\"],\"z\":[103565.4,121887.2,106479.2,92122.4,116585.0,116922.2,102900.4,111996.4,85413.0,96479.2,118263.0,109211.4,107957.2,108727.2,103908.2,97589.2,94945.4,95055.2,113532.2,111035.8,122342.2,96869.0,108872.0,103650.6,101600.4,104911.8,108819.0,115248.6,112388.6,114326.4,108540.8,126019.2,100846.4,120589.2,104852.0,105382.6,120781.2,115432.8,109948.0,102972.0,113969.8,101107.8,101191.4,99910.8,119791.2,113152.2,126682.0,89149.8,112992.4,110364.0],\"type\":\"choropleth\"}],                        {\"template\":{\"data\":{\"histogram2dcontour\":[{\"type\":\"histogram2dcontour\",\"colorbar\":{\"outlinewidth\":0,\"ticks\":\"\"},\"colorscale\":[[0.0,\"#0d0887\"],[0.1111111111111111,\"#46039f\"],[0.2222222222222222,\"#7201a8\"],[0.3333333333333333,\"#9c179e\"],[0.4444444444444444,\"#bd3786\"],[0.5555555555555556,\"#d8576b\"],[0.6666666666666666,\"#ed7953\"],[0.7777777777777778,\"#fb9f3a\"],[0.8888888888888888,\"#fdca26\"],[1.0,\"#f0f921\"]]}],\"choropleth\":[{\"type\":\"choropleth\",\"colorbar\":{\"outlinewidth\":0,\"ticks\":\"\"}}],\"histogram2d\":[{\"type\":\"histogram2d\",\"colorbar\":{\"outlinewidth\":0,\"ticks\":\"\"},\"colorscale\":[[0.0,\"#0d0887\"],[0.1111111111111111,\"#46039f\"],[0.2222222222222222,\"#7201a8\"],[0.3333333333333333,\"#9c179e\"],[0.4444444444444444,\"#bd3786\"],[0.5555555555555556,\"#d8576b\"],[0.6666666666666666,\"#ed7953\"],[0.7777777777777778,\"#fb9f3a\"],[0.8888888888888888,\"#fdca26\"],[1.0,\"#f0f921\"]]}],\"heatmap\":[{\"type\":\"heatmap\",\"colorbar\":{\"outlinewidth\":0,\"ticks\":\"\"},\"colorscale\":[[0.0,\"#0d0887\"],[0.1111111111111111,\"#46039f\"],[0.2222222222222222,\"#7201a8\"],[0.3333333333333333,\"#9c179e\"],[0.4444444444444444,\"#bd3786\"],[0.5555555555555556,\"#d8576b\"],[0.6666666666666666,\"#ed7953\"],[0.7777777777777778,\"#fb9f3a\"],[0.8888888888888888,\"#fdca26\"],[1.0,\"#f0f921\"]]}],\"heatmapgl\":[{\"type\":\"heatmapgl\",\"colorbar\":{\"outlinewidth\":0,\"ticks\":\"\"},\"colorscale\":[[0.0,\"#0d0887\"],[0.1111111111111111,\"#46039f\"],[0.2222222222222222,\"#7201a8\"],[0.3333333333333333,\"#9c179e\"],[0.4444444444444444,\"#bd3786\"],[0.5555555555555556,\"#d8576b\"],[0.6666666666666666,\"#ed7953\"],[0.7777777777777778,\"#fb9f3a\"],[0.8888888888888888,\"#fdca26\"],[1.0,\"#f0f921\"]]}],\"contourcarpet\":[{\"type\":\"contourcarpet\",\"colorbar\":{\"outlinewidth\":0,\"ticks\":\"\"}}],\"contour\":[{\"type\":\"contour\",\"colorbar\":{\"outlinewidth\":0,\"ticks\":\"\"},\"colorscale\":[[0.0,\"#0d0887\"],[0.1111111111111111,\"#46039f\"],[0.2222222222222222,\"#7201a8\"],[0.3333333333333333,\"#9c179e\"],[0.4444444444444444,\"#bd3786\"],[0.5555555555555556,\"#d8576b\"],[0.6666666666666666,\"#ed7953\"],[0.7777777777777778,\"#fb9f3a\"],[0.8888888888888888,\"#fdca26\"],[1.0,\"#f0f921\"]]}],\"surface\":[{\"type\":\"surface\",\"colorbar\":{\"outlinewidth\":0,\"ticks\":\"\"},\"colorscale\":[[0.0,\"#0d0887\"],[0.1111111111111111,\"#46039f\"],[0.2222222222222222,\"#7201a8\"],[0.3333333333333333,\"#9c179e\"],[0.4444444444444444,\"#bd3786\"],[0.5555555555555556,\"#d8576b\"],[0.6666666666666666,\"#ed7953\"],[0.7777777777777778,\"#fb9f3a\"],[0.8888888888888888,\"#fdca26\"],[1.0,\"#f0f921\"]]}],\"mesh3d\":[{\"type\":\"mesh3d\",\"colorbar\":{\"outlinewidth\":0,\"ticks\":\"\"}}],\"scatter\":[{\"fillpattern\":{\"fillmode\":\"overlay\",\"size\":10,\"solidity\":0.2},\"type\":\"scatter\"}],\"parcoords\":[{\"type\":\"parcoords\",\"line\":{\"colorbar\":{\"outlinewidth\":0,\"ticks\":\"\"}}}],\"scatterpolargl\":[{\"type\":\"scatterpolargl\",\"marker\":{\"colorbar\":{\"outlinewidth\":0,\"ticks\":\"\"}}}],\"bar\":[{\"error_x\":{\"color\":\"#2a3f5f\"},\"error_y\":{\"color\":\"#2a3f5f\"},\"marker\":{\"line\":{\"color\":\"#E5ECF6\",\"width\":0.5},\"pattern\":{\"fillmode\":\"overlay\",\"size\":10,\"solidity\":0.2}},\"type\":\"bar\"}],\"scattergeo\":[{\"type\":\"scattergeo\",\"marker\":{\"colorbar\":{\"outlinewidth\":0,\"ticks\":\"\"}}}],\"scatterpolar\":[{\"type\":\"scatterpolar\",\"marker\":{\"colorbar\":{\"outlinewidth\":0,\"ticks\":\"\"}}}],\"histogram\":[{\"marker\":{\"pattern\":{\"fillmode\":\"overlay\",\"size\":10,\"solidity\":0.2}},\"type\":\"histogram\"}],\"scattergl\":[{\"type\":\"scattergl\",\"marker\":{\"colorbar\":{\"outlinewidth\":0,\"ticks\":\"\"}}}],\"scatter3d\":[{\"type\":\"scatter3d\",\"line\":{\"colorbar\":{\"outlinewidth\":0,\"ticks\":\"\"}},\"marker\":{\"colorbar\":{\"outlinewidth\":0,\"ticks\":\"\"}}}],\"scattermapbox\":[{\"type\":\"scattermapbox\",\"marker\":{\"colorbar\":{\"outlinewidth\":0,\"ticks\":\"\"}}}],\"scatterternary\":[{\"type\":\"scatterternary\",\"marker\":{\"colorbar\":{\"outlinewidth\":0,\"ticks\":\"\"}}}],\"scattercarpet\":[{\"type\":\"scattercarpet\",\"marker\":{\"colorbar\":{\"outlinewidth\":0,\"ticks\":\"\"}}}],\"carpet\":[{\"aaxis\":{\"endlinecolor\":\"#2a3f5f\",\"gridcolor\":\"white\",\"linecolor\":\"white\",\"minorgridcolor\":\"white\",\"startlinecolor\":\"#2a3f5f\"},\"baxis\":{\"endlinecolor\":\"#2a3f5f\",\"gridcolor\":\"white\",\"linecolor\":\"white\",\"minorgridcolor\":\"white\",\"startlinecolor\":\"#2a3f5f\"},\"type\":\"carpet\"}],\"table\":[{\"cells\":{\"fill\":{\"color\":\"#EBF0F8\"},\"line\":{\"color\":\"white\"}},\"header\":{\"fill\":{\"color\":\"#C8D4E3\"},\"line\":{\"color\":\"white\"}},\"type\":\"table\"}],\"barpolar\":[{\"marker\":{\"line\":{\"color\":\"#E5ECF6\",\"width\":0.5},\"pattern\":{\"fillmode\":\"overlay\",\"size\":10,\"solidity\":0.2}},\"type\":\"barpolar\"}],\"pie\":[{\"automargin\":true,\"type\":\"pie\"}]},\"layout\":{\"autotypenumbers\":\"strict\",\"colorway\":[\"#636efa\",\"#EF553B\",\"#00cc96\",\"#ab63fa\",\"#FFA15A\",\"#19d3f3\",\"#FF6692\",\"#B6E880\",\"#FF97FF\",\"#FECB52\"],\"font\":{\"color\":\"#2a3f5f\"},\"hovermode\":\"closest\",\"hoverlabel\":{\"align\":\"left\"},\"paper_bgcolor\":\"white\",\"plot_bgcolor\":\"#E5ECF6\",\"polar\":{\"bgcolor\":\"#E5ECF6\",\"angularaxis\":{\"gridcolor\":\"white\",\"linecolor\":\"white\",\"ticks\":\"\"},\"radialaxis\":{\"gridcolor\":\"white\",\"linecolor\":\"white\",\"ticks\":\"\"}},\"ternary\":{\"bgcolor\":\"#E5ECF6\",\"aaxis\":{\"gridcolor\":\"white\",\"linecolor\":\"white\",\"ticks\":\"\"},\"baxis\":{\"gridcolor\":\"white\",\"linecolor\":\"white\",\"ticks\":\"\"},\"caxis\":{\"gridcolor\":\"white\",\"linecolor\":\"white\",\"ticks\":\"\"}},\"coloraxis\":{\"colorbar\":{\"outlinewidth\":0,\"ticks\":\"\"}},\"colorscale\":{\"sequential\":[[0.0,\"#0d0887\"],[0.1111111111111111,\"#46039f\"],[0.2222222222222222,\"#7201a8\"],[0.3333333333333333,\"#9c179e\"],[0.4444444444444444,\"#bd3786\"],[0.5555555555555556,\"#d8576b\"],[0.6666666666666666,\"#ed7953\"],[0.7777777777777778,\"#fb9f3a\"],[0.8888888888888888,\"#fdca26\"],[1.0,\"#f0f921\"]],\"sequentialminus\":[[0.0,\"#0d0887\"],[0.1111111111111111,\"#46039f\"],[0.2222222222222222,\"#7201a8\"],[0.3333333333333333,\"#9c179e\"],[0.4444444444444444,\"#bd3786\"],[0.5555555555555556,\"#d8576b\"],[0.6666666666666666,\"#ed7953\"],[0.7777777777777778,\"#fb9f3a\"],[0.8888888888888888,\"#fdca26\"],[1.0,\"#f0f921\"]],\"diverging\":[[0,\"#8e0152\"],[0.1,\"#c51b7d\"],[0.2,\"#de77ae\"],[0.3,\"#f1b6da\"],[0.4,\"#fde0ef\"],[0.5,\"#f7f7f7\"],[0.6,\"#e6f5d0\"],[0.7,\"#b8e186\"],[0.8,\"#7fbc41\"],[0.9,\"#4d9221\"],[1,\"#276419\"]]},\"xaxis\":{\"gridcolor\":\"white\",\"linecolor\":\"white\",\"ticks\":\"\",\"title\":{\"standoff\":15},\"zerolinecolor\":\"white\",\"automargin\":true,\"zerolinewidth\":2},\"yaxis\":{\"gridcolor\":\"white\",\"linecolor\":\"white\",\"ticks\":\"\",\"title\":{\"standoff\":15},\"zerolinecolor\":\"white\",\"automargin\":true,\"zerolinewidth\":2},\"scene\":{\"xaxis\":{\"backgroundcolor\":\"#E5ECF6\",\"gridcolor\":\"white\",\"linecolor\":\"white\",\"showbackground\":true,\"ticks\":\"\",\"zerolinecolor\":\"white\",\"gridwidth\":2},\"yaxis\":{\"backgroundcolor\":\"#E5ECF6\",\"gridcolor\":\"white\",\"linecolor\":\"white\",\"showbackground\":true,\"ticks\":\"\",\"zerolinecolor\":\"white\",\"gridwidth\":2},\"zaxis\":{\"backgroundcolor\":\"#E5ECF6\",\"gridcolor\":\"white\",\"linecolor\":\"white\",\"showbackground\":true,\"ticks\":\"\",\"zerolinecolor\":\"white\",\"gridwidth\":2}},\"shapedefaults\":{\"line\":{\"color\":\"#2a3f5f\"}},\"annotationdefaults\":{\"arrowcolor\":\"#2a3f5f\",\"arrowhead\":0,\"arrowwidth\":1},\"geo\":{\"bgcolor\":\"white\",\"landcolor\":\"#E5ECF6\",\"subunitcolor\":\"white\",\"showland\":true,\"showlakes\":true,\"lakecolor\":\"white\"},\"title\":{\"x\":0.05},\"mapbox\":{\"style\":\"light\"}}},\"geo\":{\"projection\":{\"type\":\"albers usa\"},\"scope\":\"usa\",\"showlakes\":true,\"lakecolor\":\"rgb(255, 255, 255)\"},\"title\":{\"text\":\"Average Annual Salaries in the US by State\"},\"annotations\":[{\"font\":{\"size\":14},\"showarrow\":false,\"text\":\"Can stricter gun laws reduce firearm gun deaths?\",\"x\":0.05,\"xref\":\"paper\",\"y\":1.0,\"yref\":\"paper\"},{\"showarrow\":false,\"text\":\"Rank is from 1 being an A and 5 being an F\",\"x\":0.05,\"xref\":\"paper\",\"y\":0.05,\"yref\":\"paper\"}]},                        {\"responsive\": true}                    ).then(function(){\n",
              "                            \n",
              "var gd = document.getElementById('e9c76c0d-b1f4-4956-90b1-942c3e8b30e5');\n",
              "var x = new MutationObserver(function (mutations, observer) {{\n",
              "        var display = window.getComputedStyle(gd).display;\n",
              "        if (!display || display === 'none') {{\n",
              "            console.log([gd, 'removed!']);\n",
              "            Plotly.purge(gd);\n",
              "            observer.disconnect();\n",
              "        }}\n",
              "}});\n",
              "\n",
              "// Listen for the removal of the full notebook cells\n",
              "var notebookContainer = gd.closest('#notebook-container');\n",
              "if (notebookContainer) {{\n",
              "    x.observe(notebookContainer, {childList: true});\n",
              "}}\n",
              "\n",
              "// Listen for the clearing of the current output cell\n",
              "var outputEl = gd.closest('.output');\n",
              "if (outputEl) {{\n",
              "    x.observe(outputEl, {childList: true});\n",
              "}}\n",
              "\n",
              "                        })                };                            </script>        </div>\n",
              "</body>\n",
              "</html>"
            ]
          },
          "metadata": {}
        }
      ]
    }
  ]
}