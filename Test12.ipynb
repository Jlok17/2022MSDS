{
  "nbformat": 4,
  "nbformat_minor": 0,
  "metadata": {
    "colab": {
      "provenance": [],
      "authorship_tag": "ABX9TyMw9tnKsaeYHOjcxfqaivg/",
      "include_colab_link": true
    },
    "kernelspec": {
      "name": "python3",
      "display_name": "Python 3"
    },
    "language_info": {
      "name": "python"
    }
  },
  "cells": [
    {
      "cell_type": "markdown",
      "metadata": {
        "id": "view-in-github",
        "colab_type": "text"
      },
      "source": [
        "<a href=\"https://colab.research.google.com/github/Jlok17/2022MSDS/blob/main/Test12.ipynb\" target=\"_parent\"><img src=\"https://colab.research.google.com/assets/colab-badge.svg\" alt=\"Open In Colab\"/></a>"
      ]
    },
    {
      "cell_type": "markdown",
      "source": [
        "## Data 622 Homework 3\n",
        "\n",
        "Perform an analysis of the dataset(s) used in Homework #2 using the SVM algorithm. Compare the results with the results from previous homework.\n",
        "\n",
        "#### Pre-work\n",
        "Read the following articles:\n",
        "\n",
        "*   https://www.hindawi.com/journals/complexity/2021/5550344/\n",
        "*   https://www.ncbi.nlm.nih.gov/pmc/articles/PMC8137961/\n",
        "\n",
        "\n",
        "Search for academic content (at least 3 articles) that compare the use of decision trees vs SVMs in your current area of expertise. Perform an analysis of the dataset used in Homework #2 using the SVM algorithm. Compare the results with the results from previous homework.\n",
        "\n",
        "\n",
        "\n",
        "#### Questions:\n",
        "\n",
        "1. Which algorithm is recommended to get more accurate results?\n",
        "2. Is it better for classification or regression scenarios?\n",
        "3. Do you agree with the recommendations?\n",
        "4. Why?\n",
        "\n",
        "\n",
        "#### Deliverable:\n",
        "\n",
        "1. Essay (minimum 500 word document) Write a short essay explaining your selection of algorithms and how they relate to the data and what you are trying to do\n",
        "\n",
        "2. Exploratory Analysis using R or Python (submit code + errors + analysis as notebook or copy/paste to document). Include analysis R (or Python) code.\n"
      ],
      "metadata": {
        "id": "c6x3ipT28qoB"
      }
    },
    {
      "cell_type": "markdown",
      "source": [
        "### Comparing the Use of Decision Trees vs SVMs:\n",
        "\n",
        "\n",
        "\n",
        "#### Articles\n",
        "\n",
        "*   https://www.e3s-conferences.org/articles/e3sconf/abs/2023/36/e3sconf_iconnect2023_09004/e3sconf_iconnect2023_09004.html\n",
        "*   https://jurnal.yoctobrain.org/index.php/ijodas/article/view/76\n",
        "* https://www.sciencedirect.com/science/article/pii/S1550742423001227\n",
        "\n"
      ],
      "metadata": {
        "id": "tJ4dIQSl8qq8"
      }
    },
    {
      "cell_type": "markdown",
      "source": [
        "### Data Source\n",
        "\n",
        "For this dataset, we are taking the one of the data sources about wine quality. It is related to the Portuguese \"Vinho Verde\" wine with 2 data sources, one for red and the other for white. These wines are from the north of Portugal and using this data I will be attempting to model wine quality based on their input variables that was measured by physicochemical tests. The data itself is hosted on the UC Irvine Machine Learning Repository and comprises of 4898 entries across 12 different variables, 11 inputs and 1 output. Utilizing this data set, I will be exploring the use of decision trees and random forest to see \"the bad and ugly\" aspects of decision trees.\n",
        "\n",
        "\n",
        "The 12 columns being:\n",
        "Input Variables based on Physicochemical Test\n",
        "* Fixed Acidity\n",
        "* Volatile Acidity\n",
        "* Citric Acid\n",
        "* Residual Sugar\n",
        "* Chlorides\n",
        "* Free Sulfur Dioxide\n",
        "* Total Sulfur Dioxide\n",
        "* Density\n",
        "* pH\n",
        "* Sulphates\n",
        "* Alcohol\n",
        "\n",
        "Output Variables\n",
        "* Quality (score between 0 and 10)\n",
        "\n",
        "\n",
        "\n",
        "\n",
        "[Data Source](https://archive.ics.uci.edu/dataset/186/wine+quality)"
      ],
      "metadata": {
        "id": "whHHkv4a-N7o"
      }
    },
    {
      "cell_type": "markdown",
      "source": [
        "### Libraries"
      ],
      "metadata": {
        "id": "96_upN9k8qzk"
      }
    },
    {
      "cell_type": "code",
      "source": [
        "import pandas as pd\n",
        "import numpy as np\n",
        "import matplotlib.pyplot as plt\n",
        "from sklearn.model_selection import train_test_split, GridSearchCV\n",
        "from sklearn.preprocessing import StandardScaler\n",
        "from sklearn.svm import SVC\n",
        "from sklearn.metrics import accuracy_score, classification_report\n",
        "from sklearn.utils.class_weight import compute_class_weight"
      ],
      "metadata": {
        "id": "zX8VA9z8-NaJ"
      },
      "execution_count": 1,
      "outputs": []
    },
    {
      "cell_type": "markdown",
      "source": [
        "### Exploratory Analysis"
      ],
      "metadata": {
        "id": "amQxvGqf-e76"
      }
    },
    {
      "cell_type": "code",
      "source": [
        "df = pd.read_csv(\"https://raw.githubusercontent.com/Jlok17/2022MSDS/main/Source/winequality-white.csv\", sep =\";\")"
      ],
      "metadata": {
        "id": "IdzhGUnc-aCt"
      },
      "execution_count": 2,
      "outputs": []
    },
    {
      "cell_type": "code",
      "source": [
        "df.info()"
      ],
      "metadata": {
        "colab": {
          "base_uri": "https://localhost:8080/"
        },
        "id": "2bb290qM_Szb",
        "outputId": "1810d780-4c69-4efe-b280-197973b5ec0a"
      },
      "execution_count": 3,
      "outputs": [
        {
          "output_type": "stream",
          "name": "stdout",
          "text": [
            "<class 'pandas.core.frame.DataFrame'>\n",
            "RangeIndex: 4898 entries, 0 to 4897\n",
            "Data columns (total 12 columns):\n",
            " #   Column                Non-Null Count  Dtype  \n",
            "---  ------                --------------  -----  \n",
            " 0   fixed acidity         4898 non-null   float64\n",
            " 1   volatile acidity      4898 non-null   float64\n",
            " 2   citric acid           4898 non-null   float64\n",
            " 3   residual sugar        4898 non-null   float64\n",
            " 4   chlorides             4898 non-null   float64\n",
            " 5   free sulfur dioxide   4898 non-null   float64\n",
            " 6   total sulfur dioxide  4898 non-null   float64\n",
            " 7   density               4898 non-null   float64\n",
            " 8   pH                    4898 non-null   float64\n",
            " 9   sulphates             4898 non-null   float64\n",
            " 10  alcohol               4898 non-null   float64\n",
            " 11  quality               4898 non-null   int64  \n",
            "dtypes: float64(11), int64(1)\n",
            "memory usage: 459.3 KB\n"
          ]
        }
      ]
    },
    {
      "cell_type": "code",
      "source": [
        "df['quality_group'] = df['quality'].apply(lambda x: 0 if x in [3, 4, 5] else (1 if x == 6 else 2))"
      ],
      "metadata": {
        "id": "vGJD9gIb6Yam"
      },
      "execution_count": 4,
      "outputs": []
    },
    {
      "cell_type": "code",
      "execution_count": 12,
      "metadata": {
        "colab": {
          "base_uri": "https://localhost:8080/"
        },
        "id": "4Xk6hT6R8ceV",
        "outputId": "75312963-be4c-460a-a0cb-5e9df6ce4c42"
      },
      "outputs": [
        {
          "output_type": "stream",
          "name": "stdout",
          "text": [
            "Accuracy: 0.5306122448979592\n",
            "              precision    recall  f1-score   support\n",
            "\n",
            "           0       0.57      0.70      0.63       321\n",
            "           1       0.56      0.31      0.40       432\n",
            "           2       0.47      0.71      0.56       227\n",
            "\n",
            "    accuracy                           0.53       980\n",
            "   macro avg       0.53      0.57      0.53       980\n",
            "weighted avg       0.54      0.53      0.51       980\n",
            "\n"
          ]
        }
      ],
      "source": [
        "# Split Data to Train/Test\n",
        "X = df.drop(columns=['quality_group','quality'])\n",
        "y = df['quality_group']\n",
        "X_train, X_test, y_train, y_test = train_test_split(X, y, test_size=0.2, random_state=42)\n",
        "\n",
        "# Standardize the features to scaled unit variance\n",
        "scaler = StandardScaler()\n",
        "X_train_scaled = scaler.fit_transform(X_train)\n",
        "X_test_scaled = scaler.transform(X_test)\n",
        "\n",
        "# Computing Class Weights\n",
        "class_weights = compute_class_weight('balanced', classes=np.unique(y_train), y=y_train)\n",
        "class_weights_dict = {i: weight for i, weight in enumerate(class_weights)}\n",
        "\n",
        "# SVM classifier with class weights\n",
        "svm_classifier = SVC(kernel='linear', C=1.0, class_weight=class_weights_dict, random_state=42)\n",
        "svm_classifier.fit(X_train_scaled, y_train)\n",
        "\n",
        "# Prediction\n",
        "y_pred = svm_classifier.predict(X_test_scaled)\n",
        "\n",
        "# Classifer Accuracy\n",
        "accuracy = accuracy_score(y_test, y_pred)\n",
        "print(\"Accuracy:\", accuracy)\n",
        "\n",
        "# Classification Report\n",
        "print(classification_report(y_test, y_pred))"
      ]
    },
    {
      "cell_type": "code",
      "source": [
        "# Parameter Grid\n",
        "param_grid = {\n",
        "    'C': [0.1, 1, 10],\n",
        "    'gamma': ['scale', 'auto', 0.1, 1, 10],\n",
        "    'kernel': ['rbf']\n",
        "}\n",
        "\n",
        "# GridSearchCV object\n",
        "grid_search = GridSearchCV(SVC(), param_grid, cv=3, scoring='accuracy', verbose=2)\n",
        "grid_search.fit(X_train_scaled, y_train)\n",
        "\n",
        "# Best Parameter and Grid\n",
        "print(\"Best parameters:\", grid_search.best_params_)\n",
        "print(\"Best cross-validation score: {:.2f}\".format(grid_search.best_score_))\n",
        "\n",
        "# Prediction\n",
        "y_pred2 = grid_search.predict(X_test_scaled)\n",
        "print(\"Test set accuracy: {:.2f}\".format(accuracy_score(y_test, y_pred2)))\n",
        "print(classification_report(y_test, y_pred2))"
      ],
      "metadata": {
        "colab": {
          "base_uri": "https://localhost:8080/"
        },
        "id": "z0SWWGUdEXgE",
        "outputId": "a31d22c8-dd7d-49a8-d3c5-901f3c8bdec7"
      },
      "execution_count": 6,
      "outputs": [
        {
          "output_type": "stream",
          "name": "stdout",
          "text": [
            "Fitting 3 folds for each of 15 candidates, totalling 45 fits\n",
            "[CV] END .....................C=0.1, gamma=scale, kernel=rbf; total time=   1.6s\n",
            "[CV] END .....................C=0.1, gamma=scale, kernel=rbf; total time=   1.1s\n",
            "[CV] END .....................C=0.1, gamma=scale, kernel=rbf; total time=   1.1s\n",
            "[CV] END ......................C=0.1, gamma=auto, kernel=rbf; total time=   1.0s\n",
            "[CV] END ......................C=0.1, gamma=auto, kernel=rbf; total time=   1.1s\n",
            "[CV] END ......................C=0.1, gamma=auto, kernel=rbf; total time=   1.3s\n",
            "[CV] END .......................C=0.1, gamma=0.1, kernel=rbf; total time=   1.2s\n",
            "[CV] END .......................C=0.1, gamma=0.1, kernel=rbf; total time=   1.4s\n",
            "[CV] END .......................C=0.1, gamma=0.1, kernel=rbf; total time=   2.6s\n",
            "[CV] END .........................C=0.1, gamma=1, kernel=rbf; total time=   3.1s\n",
            "[CV] END .........................C=0.1, gamma=1, kernel=rbf; total time=   1.5s\n",
            "[CV] END .........................C=0.1, gamma=1, kernel=rbf; total time=   1.7s\n",
            "[CV] END ........................C=0.1, gamma=10, kernel=rbf; total time=   1.5s\n",
            "[CV] END ........................C=0.1, gamma=10, kernel=rbf; total time=   1.3s\n",
            "[CV] END ........................C=0.1, gamma=10, kernel=rbf; total time=   1.6s\n",
            "[CV] END .......................C=1, gamma=scale, kernel=rbf; total time=   1.0s\n",
            "[CV] END .......................C=1, gamma=scale, kernel=rbf; total time=   1.1s\n",
            "[CV] END .......................C=1, gamma=scale, kernel=rbf; total time=   1.9s\n",
            "[CV] END ........................C=1, gamma=auto, kernel=rbf; total time=   1.8s\n",
            "[CV] END ........................C=1, gamma=auto, kernel=rbf; total time=   1.1s\n",
            "[CV] END ........................C=1, gamma=auto, kernel=rbf; total time=   0.5s\n",
            "[CV] END .........................C=1, gamma=0.1, kernel=rbf; total time=   0.5s\n",
            "[CV] END .........................C=1, gamma=0.1, kernel=rbf; total time=   0.5s\n",
            "[CV] END .........................C=1, gamma=0.1, kernel=rbf; total time=   0.5s\n",
            "[CV] END ...........................C=1, gamma=1, kernel=rbf; total time=   0.7s\n",
            "[CV] END ...........................C=1, gamma=1, kernel=rbf; total time=   0.7s\n",
            "[CV] END ...........................C=1, gamma=1, kernel=rbf; total time=   0.7s\n",
            "[CV] END ..........................C=1, gamma=10, kernel=rbf; total time=   0.7s\n",
            "[CV] END ..........................C=1, gamma=10, kernel=rbf; total time=   0.7s\n",
            "[CV] END ..........................C=1, gamma=10, kernel=rbf; total time=   0.7s\n",
            "[CV] END ......................C=10, gamma=scale, kernel=rbf; total time=   0.6s\n",
            "[CV] END ......................C=10, gamma=scale, kernel=rbf; total time=   0.6s\n",
            "[CV] END ......................C=10, gamma=scale, kernel=rbf; total time=   0.6s\n",
            "[CV] END .......................C=10, gamma=auto, kernel=rbf; total time=   0.6s\n",
            "[CV] END .......................C=10, gamma=auto, kernel=rbf; total time=   0.9s\n",
            "[CV] END .......................C=10, gamma=auto, kernel=rbf; total time=   1.0s\n",
            "[CV] END ........................C=10, gamma=0.1, kernel=rbf; total time=   1.0s\n",
            "[CV] END ........................C=10, gamma=0.1, kernel=rbf; total time=   0.6s\n",
            "[CV] END ........................C=10, gamma=0.1, kernel=rbf; total time=   0.6s\n",
            "[CV] END ..........................C=10, gamma=1, kernel=rbf; total time=   0.7s\n",
            "[CV] END ..........................C=10, gamma=1, kernel=rbf; total time=   0.7s\n",
            "[CV] END ..........................C=10, gamma=1, kernel=rbf; total time=   0.7s\n",
            "[CV] END .........................C=10, gamma=10, kernel=rbf; total time=   0.7s\n",
            "[CV] END .........................C=10, gamma=10, kernel=rbf; total time=   0.7s\n",
            "[CV] END .........................C=10, gamma=10, kernel=rbf; total time=   0.7s\n",
            "Best parameters: {'C': 1, 'gamma': 1, 'kernel': 'rbf'}\n",
            "Best cross-validation score: 0.64\n",
            "Test set accuracy: 0.67\n",
            "Classification Report:\n",
            "               precision    recall  f1-score   support\n",
            "\n",
            "           0       0.72      0.60      0.66       321\n",
            "           1       0.61      0.79      0.69       432\n",
            "           2       0.82      0.53      0.65       227\n",
            "\n",
            "    accuracy                           0.67       980\n",
            "   macro avg       0.72      0.64      0.66       980\n",
            "weighted avg       0.69      0.67      0.67       980\n",
            "\n"
          ]
        }
      ]
    },
    {
      "cell_type": "code",
      "source": [
        "# GridSearchCV Results\n",
        "scores = grid_search.cv_results_['mean_test_score'].reshape(len(param_grid['C']), len(param_grid['gamma']))\n",
        "\n",
        "# Heatmap\n",
        "plt.figure(figsize=(8, 6))\n",
        "sns.heatmap(scores, annot=True, fmt=\".3f\", xticklabels=param_grid['gamma'], yticklabels=param_grid['C'])\n",
        "plt.title('Hyperparameter GridSearch - SVM')\n",
        "plt.xlabel('Gamma')\n",
        "plt.ylabel('C')\n",
        "plt.show()"
      ],
      "metadata": {
        "colab": {
          "base_uri": "https://localhost:8080/",
          "height": 564
        },
        "id": "jgZs-NjjEBK8",
        "outputId": "569d4f67-1b4c-4ccb-e09c-dd2724e388a8"
      },
      "execution_count": 11,
      "outputs": [
        {
          "output_type": "display_data",
          "data": {
            "text/plain": [
              "<Figure size 800x600 with 2 Axes>"
            ],
            "image/png": "[encoded data removed]"
          },
          "metadata": {}
        }
      ]
    },
    {
      "cell_type": "markdown",
      "source": [
        "### Essay\n",
        "\n",
        "\n",
        "Search for academic content (at least 3 articles) that compare the use of decision trees vs SVMs in your current area of expertise. Perform an analysis of the dataset used in Homework #2 using the SVM algorithm. Compare the results with the results from previous homework.\n",
        "\n",
        "\n",
        "\n",
        "#### Questions:\n",
        "\n",
        "1. Which algorithm is recommended to get more accurate results?\n",
        "2. Is it better for classification or regression scenarios?\n",
        "3. Do you agree with the recommendations?\n",
        "4. Why?\n",
        "\n",
        "\n",
        "#### Deliverable:\n",
        "\n",
        "1. Essay (minimum 500 word document) Write a short essay explaining your selection of algorithms and how they relate to the data and what you are trying to do\n",
        "\n",
        "2. Exploratory Analysis using R or Python (submit code + errors + analysis as notebook or copy/paste to document). Include analysis R (or Python) code.\n",
        "\n",
        "\n",
        "\n",
        " Decision Tree 1\n",
        "\n",
        "              precision    recall  f1-score   support\n",
        "\n",
        "           0       0.51      0.52      0.51       334\n",
        "           1       0.47      0.57      0.52       415\n",
        "           2       0.57      0.34      0.43       231\n",
        "\n",
        "    accuracy                           0.50       980\n",
        "   macro avg       0.52      0.48      0.49       980\n",
        "weighted avg       0.51      0.50      0.49       980\n",
        "\n",
        "[[174 153   7]\n",
        " [127 236  52]\n",
        " [ 43 109  79]]\n",
        "\n",
        "Decision Tree 2\n",
        "              precision    recall  f1-score   support\n",
        "\n",
        "           0       0.60      0.62      0.61       318\n",
        "           1       0.54      0.60      0.57       447\n",
        "           2       0.54      0.38      0.44       215\n",
        "\n",
        "    accuracy                           0.56       980\n",
        "   macro avg       0.56      0.53      0.54       980\n",
        "weighted avg       0.56      0.56      0.55       980\n",
        "\n",
        "[[196 114   8]\n",
        " [116 269  62]\n",
        " [ 16 118  81]]\n"
      ],
      "metadata": {
        "id": "m46NhyT5-m8Y"
      }
    }
  ]
}